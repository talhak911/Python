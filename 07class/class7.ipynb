{
 "cells": [
  {
   "cell_type": "markdown",
   "metadata": {},
   "source": [
    "# Dictionary"
   ]
  },
  {
   "cell_type": "code",
   "execution_count": 3,
   "metadata": {},
   "outputs": [
    {
     "name": "stdout",
     "output_type": "stream",
     "text": [
      "{'name': 'Talha', 'fname': 'sadiq', 'degree': 'bscs'}\n"
     ]
    }
   ],
   "source": [
    "from typing import Union\n",
    "key = Union[str,int]\n",
    "value = Union[str,int,set,list, dict, tuple]\n",
    "data: dict[key,value] = {\"name\":\"Talha\", \"fname\":\"sadiq\"}\n",
    "data[\"degree\"]= 'bscs'\n",
    "print(data)"
   ]
  },
  {
   "cell_type": "markdown",
   "metadata": {},
   "source": [
    "# SET\n",
    "```\n",
    "only displays distinct elements \n",
    "```\n"
   ]
  },
  {
   "cell_type": "code",
   "execution_count": 5,
   "metadata": {},
   "outputs": [
    {
     "name": "stdout",
     "output_type": "stream",
     "text": [
      "{1, 2, 3, 4, 5}\n"
     ]
    }
   ],
   "source": [
    "num :set = {1,3,4,1,4,2,5,3}\n",
    "print(num)"
   ]
  },
  {
   "cell_type": "code",
   "execution_count": 7,
   "metadata": {},
   "outputs": [
    {
     "name": "stdout",
     "output_type": "stream",
     "text": [
      "{'v', 'a', 'x', 'z'}\n"
     ]
    }
   ],
   "source": [
    "num :set = {\"a\",\"a\",\"v\",\"z\",\"x\"}\n",
    "print(num)"
   ]
  },
  {
   "cell_type": "code",
   "execution_count": 8,
   "metadata": {},
   "outputs": [
    {
     "name": "stdout",
     "output_type": "stream",
     "text": [
      "{'name': 'talha', 'fname': 'sadiq'}\n"
     ]
    }
   ],
   "source": [
    "from typing import Union\n",
    "key = Union[str,int]\n",
    "value = Union[str,int,set,list, dict, tuple]\n",
    "data: dict[key,value] = {\"name\":\"Talha\", \"fname\":\"sadiq\"}\n",
    "data[\"name\"]= 'talha'\n",
    "print(data)"
   ]
  },
  {
   "cell_type": "code",
   "execution_count": 10,
   "metadata": {},
   "outputs": [
    {
     "name": "stdout",
     "output_type": "stream",
     "text": [
      "{1, 2, 3, 4, 5}\n",
      "[1, 2, 3, 4, 5]\n"
     ]
    }
   ],
   "source": [
    "num :set = {1,3,4,1,4,2,5,3}\n",
    "print(num)\n",
    "num1: list[int]= list(num)\n",
    "print(num1)"
   ]
  },
  {
   "cell_type": "code",
   "execution_count": 11,
   "metadata": {},
   "outputs": [
    {
     "name": "stdout",
     "output_type": "stream",
     "text": [
      "gardening\n"
     ]
    }
   ],
   "source": [
    "from typing import Union\n",
    "key = Union[str,int]\n",
    "value = Union[str,int,set,list, dict, tuple]\n",
    "data: dict[key,value] = {\"name\":\"Talha\"\n",
    "                         , \"fname\":\"sadiq\",\n",
    "                         \"Hobby\":{1:\"cricket\",2:\"gardening\"}\n",
    "                         }\n",
    "\n",
    "print(data[\"Hobby\"][2])"
   ]
  },
  {
   "cell_type": "code",
   "execution_count": 13,
   "metadata": {},
   "outputs": [
    {
     "name": "stdout",
     "output_type": "stream",
     "text": [
      "sadiq\n",
      "Not availble\n"
     ]
    }
   ],
   "source": [
    "from typing import Union\n",
    "key = Union[str,int]\n",
    "value = Union[str,int,set,list, dict, tuple]\n",
    "data: dict[key,value] = {\"name\":\"Talha\"\n",
    "                         , \"fname\":\"sadiq\",\n",
    "                         \"Hobby\":{1:\"cricket\",2:\"gardening\"}\n",
    "                         }\n",
    "print(data.get(\"fname\",\"Not availble\"))\n",
    "print(data.get(\"fullName\",\"Not availble\"))"
   ]
  },
  {
   "cell_type": "code",
   "execution_count": 15,
   "metadata": {},
   "outputs": [
    {
     "name": "stdout",
     "output_type": "stream",
     "text": [
      "dict_keys(['name', 'fname', 'Hobby'])\n"
     ]
    }
   ],
   "source": [
    "from typing import Union\n",
    "key = Union[str,int]\n",
    "value = Union[str,int,set,list, dict, tuple]\n",
    "data: dict[key,value] = {\"name\":\"Talha\"\n",
    "                         , \"fname\":\"sadiq\",\n",
    "                         \"Hobby\":{1:\"cricket\",2:\"gardening\"}\n",
    "                         }\n",
    "print(data.keys())\n"
   ]
  },
  {
   "cell_type": "code",
   "execution_count": 17,
   "metadata": {},
   "outputs": [
    {
     "name": "stdout",
     "output_type": "stream",
     "text": [
      "dict_values(['Talha', 'sadiq', {1: 'cricket', 2: 'gardening'}])\n"
     ]
    }
   ],
   "source": [
    "from typing import Union\n",
    "key = Union[str,int]\n",
    "value = Union[str,int,set,list, dict, tuple]\n",
    "data: dict[key,value] = {\"name\":\"Talha\"\n",
    "                         , \"fname\":\"sadiq\",\n",
    "                         \"Hobby\":{1:\"cricket\",2:\"gardening\"}\n",
    "                         }\n",
    "print(data.values())"
   ]
  },
  {
   "cell_type": "code",
   "execution_count": 18,
   "metadata": {},
   "outputs": [
    {
     "name": "stdout",
     "output_type": "stream",
     "text": [
      "dict_items([('name', 'Talha'), ('fname', 'sadiq'), ('Hobby', {1: 'cricket', 2: 'gardening'})])\n"
     ]
    }
   ],
   "source": [
    "from typing import Union\n",
    "key = Union[str,int]\n",
    "value = Union[str,int,set,list, dict, tuple]\n",
    "data: dict[key,value] = {\"name\":\"Talha\"\n",
    "                         , \"fname\":\"sadiq\",\n",
    "                         \"Hobby\":{1:\"cricket\",2:\"gardening\"}\n",
    "                         }\n",
    "print(data.items())"
   ]
  },
  {
   "cell_type": "code",
   "execution_count": 19,
   "metadata": {},
   "outputs": [
    {
     "name": "stdout",
     "output_type": "stream",
     "text": [
      "name\n",
      "fname\n",
      "Hobby\n"
     ]
    }
   ],
   "source": [
    "from typing import Union\n",
    "key = Union[str,int]\n",
    "value = Union[str,int,set,list, dict, tuple]\n",
    "data: dict[key,value] = {\"name\":\"Talha\"\n",
    "                         , \"fname\":\"sadiq\",\n",
    "                         \"Hobby\":{1:\"cricket\",2:\"gardening\"}\n",
    "                         }\n",
    "\n",
    "for d in data:\n",
    "    print(d)"
   ]
  },
  {
   "cell_type": "code",
   "execution_count": 21,
   "metadata": {},
   "outputs": [
    {
     "name": "stdout",
     "output_type": "stream",
     "text": [
      "Talha\n",
      "sadiq\n",
      "{1: 'cricket', 2: 'gardening'}\n"
     ]
    }
   ],
   "source": [
    "from typing import Union\n",
    "key = Union[str,int]\n",
    "value = Union[str,int,set,list, dict, tuple]\n",
    "data: dict[key,value] = {\"name\":\"Talha\"\n",
    "                         , \"fname\":\"sadiq\",\n",
    "                         \"Hobby\":{1:\"cricket\",2:\"gardening\"}\n",
    "                         }\n",
    "\n",
    "for d in data.values():\n",
    "    print(d)"
   ]
  },
  {
   "cell_type": "code",
   "execution_count": 23,
   "metadata": {},
   "outputs": [
    {
     "name": "stdout",
     "output_type": "stream",
     "text": [
      "name Talha\n",
      "fname sadiq\n",
      "Hobby {1: 'cricket', 2: 'gardening'}\n"
     ]
    }
   ],
   "source": [
    "from typing import Union\n",
    "key = Union[str,int]\n",
    "value = Union[str,int,set,list, dict, tuple]\n",
    "data: dict[key,value] = {\"name\":\"Talha\"\n",
    "                         , \"fname\":\"sadiq\",\n",
    "                         \"Hobby\":{1:\"cricket\",2:\"gardening\"}\n",
    "                         }\n",
    "\n",
    "for k,v in data.items():\n",
    "    print(k,v)"
   ]
  },
  {
   "cell_type": "code",
   "execution_count": 24,
   "metadata": {},
   "outputs": [
    {
     "name": "stdout",
     "output_type": "stream",
     "text": [
      "Talha name\n",
      "sadiq fname\n",
      "{1: 'cricket', 2: 'gardening'} Hobby\n"
     ]
    }
   ],
   "source": [
    "from typing import Union\n",
    "key = Union[str,int]\n",
    "value = Union[str,int,set,list, dict, tuple]\n",
    "data: dict[key,value] = {\"name\":\"Talha\"\n",
    "                         , \"fname\":\"sadiq\",\n",
    "                         \"Hobby\":{1:\"cricket\",2:\"gardening\"}\n",
    "                         }\n",
    "\n",
    "for k,v in data.items():\n",
    "    print(v,k)"
   ]
  },
  {
   "cell_type": "code",
   "execution_count": 34,
   "metadata": {},
   "outputs": [
    {
     "name": "stdout",
     "output_type": "stream",
     "text": [
      "Talha name\n",
      "sadiq fname\n",
      "{1: 'cricket', 2: 'gardening'} Hobby\n"
     ]
    },
    {
     "data": {
      "text/plain": [
       "[None, None, None]"
      ]
     },
     "execution_count": 34,
     "metadata": {},
     "output_type": "execute_result"
    }
   ],
   "source": [
    "from typing import Union\n",
    "key = Union[str,int]\n",
    "value = Union[str,int,set,list, dict, tuple]\n",
    "data: dict[key,value] = {\"name\":\"Talha\"\n",
    "                         , \"fname\":\"sadiq\",\n",
    "                         \"Hobby\":{1:\"cricket\",2:\"gardening\"}\n",
    "                         }\n",
    "\n",
    "[(k,v) for v,k in data.items()  ]"
   ]
  },
  {
   "cell_type": "code",
   "execution_count": 36,
   "metadata": {},
   "outputs": [
    {
     "name": "stdout",
     "output_type": "stream",
     "text": [
      "{'Name': None, 'Fname': None, 'Age': None}\n"
     ]
    }
   ],
   "source": [
    "key1 : list[str] = [\"Name\",\"Fname\", \"Age\"]\n",
    "data: dict[key,value] = {}\n",
    "data = data.fromkeys(list(key1))\n",
    "print(data)"
   ]
  }
 ],
 "metadata": {
  "kernelspec": {
   "display_name": "Python 3",
   "language": "python",
   "name": "python3"
  },
  "language_info": {
   "codemirror_mode": {
    "name": "ipython",
    "version": 3
   },
   "file_extension": ".py",
   "mimetype": "text/x-python",
   "name": "python",
   "nbconvert_exporter": "python",
   "pygments_lexer": "ipython3",
   "version": "3.11.5"
  }
 },
 "nbformat": 4,
 "nbformat_minor": 2
}
