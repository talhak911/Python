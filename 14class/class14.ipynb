{
 "cells": [
  {
   "cell_type": "markdown",
   "metadata": {},
   "source": [
    "# Method Overloading"
   ]
  },
  {
   "cell_type": "code",
   "execution_count": 17,
   "metadata": {},
   "outputs": [
    {
     "name": "stdout",
     "output_type": "stream",
     "text": [
      "3 \n",
      " 4.0 \n",
      " Hello world!\n"
     ]
    }
   ],
   "source": [
    "from typing import overload ,Union\n",
    "@overload\n",
    "def add(x:int,y:int)->int:\n",
    "    ...\n",
    "@overload\n",
    "def add(x: float, y: float) -> float:\n",
    "    ...\n",
    "\n",
    "@overload\n",
    "def add(x: str, y: str) -> str:\n",
    "    ...\n",
    "def add(x:Union[int,str,float],y:Union[int,str,float])->Union[int,float,str]:\n",
    "    if isinstance(x,int) and isinstance(y,int):\n",
    "        return x + y\n",
    "    elif isinstance(x,float) and isinstance(y,float):\n",
    "        return x + y\n",
    "    elif isinstance(x,str) and isinstance(y,str):\n",
    "        return x + y\n",
    "    else:\n",
    "        raise TypeError(\"Invalid argument types!\")\n",
    "result1 = add(1, 2)  # Should return 3\n",
    "result2 = add(1.5, 2.5)  # Should return 4.0\n",
    "result3 = add(\"Hello\", \" world!\")  # Should return \"Hello, world!\"\n",
    "print(result1,\"\\n\",result2,\"\\n\",result3)"
   ]
  }
 ],
 "metadata": {
  "kernelspec": {
   "display_name": "Python 3",
   "language": "python",
   "name": "python3"
  },
  "language_info": {
   "codemirror_mode": {
    "name": "ipython",
    "version": 3
   },
   "file_extension": ".py",
   "mimetype": "text/x-python",
   "name": "python",
   "nbconvert_exporter": "python",
   "pygments_lexer": "ipython3",
   "version": "3.11.5"
  }
 },
 "nbformat": 4,
 "nbformat_minor": 2
}
