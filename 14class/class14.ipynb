{
 "cells": [
  {
   "cell_type": "markdown",
   "metadata": {},
   "source": [
    "# Method Overloading"
   ]
  },
  {
   "cell_type": "code",
   "execution_count": 1,
   "metadata": {},
   "outputs": [
    {
     "name": "stdout",
     "output_type": "stream",
     "text": [
      "3 \n",
      " 4.0 \n",
      " Hello world!\n"
     ]
    }
   ],
   "source": [
    "from typing import overload ,Union\n",
    "@overload\n",
    "def add(x:int,y:int)->int:\n",
    "    ...\n",
    "@overload\n",
    "def add(x: float, y: float) -> float:\n",
    "    ...\n",
    "\n",
    "@overload\n",
    "def add(x: str, y: str) -> str:\n",
    "    ...\n",
    "def add(x:Union[int,str,float],y:Union[int,str,float])->Union[int,float,str]:\n",
    "    if isinstance(x,int) and isinstance(y,int):\n",
    "        return x + y\n",
    "    elif isinstance(x,float) and isinstance(y,float):\n",
    "        return x + y\n",
    "    elif isinstance(x,str) and isinstance(y,str):\n",
    "        return x + y\n",
    "    else:\n",
    "        raise TypeError(\"Invalid argument types!\")\n",
    "result1 = add(1, 2)  # Should return 3\n",
    "result2 = add(1.5, 2.5)  # Should return 4.0\n",
    "result3 = add(\"Hello\", \" world!\")  # Should return \"Hello, world!\"\n",
    "print(result1,\"\\n\",result2,\"\\n\",result3)"
   ]
  },
  {
   "cell_type": "markdown",
   "metadata": {},
   "source": [
    "# Method Overloading"
   ]
  },
  {
   "cell_type": "code",
   "execution_count": 6,
   "metadata": {},
   "outputs": [
    {
     "name": "stdout",
     "output_type": "stream",
     "text": [
      "6\n",
      "4.0\n",
      "Hello, world!\n"
     ]
    }
   ],
   "source": [
    "class Adder():\n",
    "    \n",
    "    @overload\n",
    "    def add(self, x:int,y:int)->int:\n",
    "        ...\n",
    "    @overload\n",
    "    def add(self, x: float, y: float) -> float:\n",
    "        ...\n",
    "\n",
    "    @overload\n",
    "    def add(self, x: str, y: str) -> str:\n",
    "        ...\n",
    "    def add(self ,x:Union[int,str,float],y:Union[int,str,float])->Union[int,float,str]:\n",
    "        if isinstance(x,int) and isinstance(y,int):\n",
    "            return x + y\n",
    "        elif isinstance(x,float) and isinstance(y,float):\n",
    "            return x + y\n",
    "        elif isinstance(x,str) and isinstance(y,str):\n",
    "            return x + y\n",
    "        else:\n",
    "            raise TypeError(\"Invalid argument types!\")\n",
    "# Usage examples\n",
    "adder = Adder()\n",
    "result1 = adder.add(3,3)  # Should return 3\n",
    "result2 = adder.add(1.5, 2.5)  # Should return 4.0\n",
    "result3 = adder.add(\"Hello, \", \"world!\")  # Should return \"Hello, world!\"\n",
    "\n",
    "print(result1)\n",
    "print(result2)\n",
    "print(result3)\n",
    "\n",
    "# Overridding & polymorphism"
   ]
  },
  {
   "cell_type": "markdown",
   "metadata": {},
   "source": [
    "# Multile Inheritance"
   ]
  },
  {
   "cell_type": "code",
   "execution_count": 15,
   "metadata": {},
   "outputs": [
    {
     "name": "stdout",
     "output_type": "stream",
     "text": [
      "Battery Technology is Li-Ion. and battery size is 4230 mah \n",
      "Display Technology is Amoled. and display size is 6.3 inch\n"
     ]
    }
   ],
   "source": [
    "class Display:\n",
    "    def __init__(self,tech:str,size:int) -> None:\n",
    "        self.tech=tech\n",
    "        self.size=size\n",
    "    def getInfoDisplay(self):\n",
    "        print(f\"Display Technology is {self.tech}. and display size is {self.size} inch\")\n",
    "class Battery:\n",
    "    def __init__(self,techno:str,bSize:int) -> None:\n",
    "        self.techno=techno\n",
    "        self.bSize=bSize\n",
    "    def getInfoBat(self):\n",
    "        print(f\"Battery Technology is {self.techno}. and battery size is {self.bSize} mah \")\n",
    "class Mobile(Display,Battery):\n",
    "    def __init__(self,brand:str, tech: str, size: int,btech: str, bsize: int) -> None:\n",
    "        Display.__init__(self,tech, size)\n",
    "        Battery.__init__(self,btech, bsize)\n",
    "        self.brand=brand\n",
    "M1= Mobile(\"Apple\",\"Amoled\",6.3,\"Li-Ion\",4230)\n",
    "M1.getInfoBat()\n",
    "M1.getInfoDisplay()\n"
   ]
  },
  {
   "cell_type": "code",
   "execution_count": 16,
   "metadata": {},
   "outputs": [
    {
     "data": {
      "text/plain": [
       "['getInfoBat', 'getInfoDisplay']"
      ]
     },
     "execution_count": 16,
     "metadata": {},
     "output_type": "execute_result"
    }
   ],
   "source": [
    "[i for i in dir(Mobile) if \"__\" not in i]"
   ]
  },
  {
   "cell_type": "code",
   "execution_count": 17,
   "metadata": {},
   "outputs": [
    {
     "name": "stdout",
     "output_type": "stream",
     "text": [
      "Bird is eating bread\n",
      "Animal is eating grass\n"
     ]
    }
   ],
   "source": [
    "class Animal():\n",
    "    def eating(self,food : str )->None: #same method \n",
    "        print(f\"Animal is eating {food}\")\n",
    "\n",
    "\n",
    "class Bird(Animal):\n",
    "    def eating(self, food: str) -> None:\n",
    "        print(f\"Bird is eating {food}\")\n",
    "\n",
    "\n",
    "bird : Bird = Bird()\n",
    "bird.eating(\"bread\")\n",
    "\n",
    "animal : Animal = Animal()\n",
    "animal.eating(\"grass\")"
   ]
  },
  {
   "cell_type": "code",
   "execution_count": 19,
   "metadata": {},
   "outputs": [
    {
     "name": "stdout",
     "output_type": "stream",
     "text": [
      "Addition: 30\n",
      "Multiplication: 200\n",
      "Static variable or Class variable PIAIC\n"
     ]
    }
   ],
   "source": [
    "class MathOperations:\n",
    "\n",
    "    counter : int = 100\n",
    "    organization : str = \"PIAIC\"\n",
    "\n",
    "    @staticmethod\n",
    "    def add(x: int, y: int) -> int:\n",
    "        \"\"\"Add two numbers.\"\"\"\n",
    "        return x + y\n",
    "\n",
    "    @staticmethod\n",
    "    def multiply(x: int, y: int) -> int:\n",
    "        \"\"\"Multiply two numbers.\"\"\"\n",
    "        return x * y\n",
    "\n",
    "# Using the static methods\n",
    "result_add = MathOperations.add(10, 20)\n",
    "result_multiply = MathOperations.multiply(10, 20)\n",
    "\n",
    "print(\"Addition:\", result_add)\n",
    "print(\"Multiplication:\", result_multiply)\n",
    "\n",
    "print(\"Static variable or Class variable\",MathOperations.organization)"
   ]
  },
  {
   "cell_type": "code",
   "execution_count": null,
   "metadata": {},
   "outputs": [],
   "source": []
  }
 ],
 "metadata": {
  "kernelspec": {
   "display_name": "Python 3",
   "language": "python",
   "name": "python3"
  },
  "language_info": {
   "codemirror_mode": {
    "name": "ipython",
    "version": 3
   },
   "file_extension": ".py",
   "mimetype": "text/x-python",
   "name": "python",
   "nbconvert_exporter": "python",
   "pygments_lexer": "ipython3",
   "version": "3.11.5"
  }
 },
 "nbformat": 4,
 "nbformat_minor": 2
}
