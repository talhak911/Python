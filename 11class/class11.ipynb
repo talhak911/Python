{
 "cells": [
  {
   "cell_type": "markdown",
   "metadata": {},
   "source": [
    "# pass by value and pass by reference"
   ]
  },
  {
   "cell_type": "code",
   "execution_count": 4,
   "metadata": {},
   "outputs": [
    {
     "name": "stdout",
     "output_type": "stream",
     "text": [
      "[1, 2, 3, 4, 5]\n"
     ]
    }
   ],
   "source": [
    "l1:list[int]=[1,2,3,4]\n",
    "l2:list[int]=l1  # mutable type list \n",
    "l1.append(5) # changes both because both has same address\n",
    "print(l2)"
   ]
  },
  {
   "cell_type": "code",
   "execution_count": 5,
   "metadata": {},
   "outputs": [
    {
     "name": "stdout",
     "output_type": "stream",
     "text": [
      "223513672960\n",
      "223513672960\n"
     ]
    }
   ],
   "source": [
    "print(id(l1))\n",
    "print(id(l2))"
   ]
  },
  {
   "cell_type": "code",
   "execution_count": 8,
   "metadata": {},
   "outputs": [
    {
     "name": "stdout",
     "output_type": "stream",
     "text": [
      "value1 = 2 value2 = 1\n"
     ]
    }
   ],
   "source": [
    "value1:int = 1\n",
    "value2:int = value1\n",
    "value1 += 1\n",
    "print(f\"value1 = {value1} value2 = {value2}\")"
   ]
  },
  {
   "cell_type": "code",
   "execution_count": 11,
   "metadata": {},
   "outputs": [
    {
     "name": "stdout",
     "output_type": "stream",
     "text": [
      "address at start of program 140711595119528\n",
      "address at start of function 140711595119528\n",
      "address at end of function 140711595119560\n",
      "address at end of program 140711595119528\n"
     ]
    }
   ],
   "source": [
    "value1: int = 5\n",
    "print(\"address at start of program\",id(value1))\n",
    "def check(v:int):\n",
    "    print(\"address at start of function\",id(v))\n",
    "    v+=1\n",
    "    print(\"address at end of function\",id(v))\n",
    "check(value1)\n",
    "print(\"address at end of program\",id(value1))"
   ]
  },
  {
   "cell_type": "code",
   "execution_count": 16,
   "metadata": {},
   "outputs": [
    {
     "name": "stdout",
     "output_type": "stream",
     "text": [
      "address of x = 4 140711595119496\n",
      "address of y = 4 140711595119496\n",
      "address of y = 5 140711595119528\n",
      "address of x = 4 140711595119496\n"
     ]
    }
   ],
   "source": [
    "x: int = 4\n",
    "y: int = x\n",
    "print(f\"address of x = {x} {id(x)}\")\n",
    "print(f\"address of y = {y} {id(y)}\")\n",
    "y+=1\n",
    "print(f\"address of y = {y} {id(y)}\")\n",
    "print(f\"address of x = {x} {id(x)}\")"
   ]
  },
  {
   "cell_type": "code",
   "execution_count": 21,
   "metadata": {},
   "outputs": [
    {
     "name": "stdout",
     "output_type": "stream",
     "text": [
      "value1 = 10.167 value2 = 10\n",
      "value1 = 140711595119688 value2 = 140711595119688\n"
     ]
    }
   ],
   "source": [
    "value1:int = 10.167\n",
    "value2:int = int(value1)\n",
    "\n",
    "print(f\"value1 = {value1} value2 = {value2}\")\n",
    "print(f\"value1 = {id(value2)} value2 = {id(value2)}\")"
   ]
  },
  {
   "cell_type": "code",
   "execution_count": 26,
   "metadata": {},
   "outputs": [
    {
     "name": "stdout",
     "output_type": "stream",
     "text": [
      "a =  [1, 2, 3, 4]\n",
      "address of a  223513709696\n",
      "\tValue at start of function [1, 2, 3, 4] address 223513709696\n",
      "num1 value is [1, 2, 3, 4, 200] address 223513709696\n",
      "a =  [1, 2, 3, 4, 200]\n"
     ]
    }
   ],
   "source": [
    "a : list[int] = [1,2,3,4]\n",
    "print(\"a = \",a)\n",
    "print(\"address of a \" ,id(a))\n",
    "\n",
    "def abc(num1:list[int])->None:\n",
    "    print(f\"\\tValue at start of function {num1} address {id(num1)}\")\n",
    "    num1.append(200)# added on element\n",
    "    print(f\"num1 value is {num1} address {id(num1)}\")\n",
    "\n",
    "abc(a)# pass by refference (mutable data type)\n",
    "\n",
    "print(\"a = \", a)"
   ]
  },
  {
   "cell_type": "code",
   "execution_count": 32,
   "metadata": {},
   "outputs": [
    {
     "name": "stdout",
     "output_type": "stream",
     "text": [
      "a =  [1, 2, 3, 4]\n",
      "Start of function\n",
      "a value is reasigned [1, 2, 3, 4, 200]\n",
      "end of function\n",
      "a =  [1, 2, 3, 4]\n"
     ]
    }
   ],
   "source": [
    "a : list[int] = [1,2,3,4]\n",
    "print(\"a = \",a)\n",
    "def abc(a:list[int])->None:\n",
    "    print(\"Start of function\")\n",
    "    a:list[int] = [1,2,3,4] # reassign list variable -> create new object\n",
    "    a.append(200)# added on element\n",
    "    print(f\"a value is reasigned {a}\")\n",
    "    print(\"end of function\")\n",
    "\n",
    "abc(a)# pass by refference (mutable data type)\n",
    "\n",
    "print(\"a = \" ,a)"
   ]
  },
  {
   "cell_type": "markdown",
   "metadata": {},
   "source": [
    "# Run time error\n",
    "* out of index range\n",
    "* invalid input zero error\n",
    "* assignment error\n",
    "* key error key not found\n",
    "* file not found error"
   ]
  },
  {
   "cell_type": "code",
   "execution_count": 42,
   "metadata": {},
   "outputs": [
    {
     "data": {
      "text/plain": [
       "'for i in range(2,11):\\n    print(f\"\\\\n{i} table start\\\\n\")\\n    for j in range(1,11):\\n        print(f\"{i} x {j} = {i*j}\")\\n    '"
      ]
     },
     "execution_count": 42,
     "metadata": {},
     "output_type": "execute_result"
    }
   ],
   "source": [
    "a = open(\"./class11.py\")\n",
    "a.read()\n"
   ]
  },
  {
   "cell_type": "code",
   "execution_count": 43,
   "metadata": {},
   "outputs": [
    {
     "ename": "FileNotFoundError",
     "evalue": "[Errno 2] No such file or directory: 'class12.py'",
     "output_type": "error",
     "traceback": [
      "\u001b[1;31m---------------------------------------------------------------------------\u001b[0m",
      "\u001b[1;31mFileNotFoundError\u001b[0m                         Traceback (most recent call last)",
      "\u001b[1;32md:\\Apiaic\\python\\11class\\class11.ipynb Cell 12\u001b[0m line \u001b[0;36m1\n\u001b[1;32m----> <a href='vscode-notebook-cell:/d%3A/Apiaic/python/11class/class11.ipynb#X14sZmlsZQ%3D%3D?line=0'>1</a>\u001b[0m \u001b[39mopen\u001b[39m(\u001b[39m\"\u001b[39m\u001b[39mclass12.py\u001b[39m\u001b[39m\"\u001b[39m)\n",
      "File \u001b[1;32md:\\anaconda\\Lib\\site-packages\\IPython\\core\\interactiveshell.py:286\u001b[0m, in \u001b[0;36m_modified_open\u001b[1;34m(file, *args, **kwargs)\u001b[0m\n\u001b[0;32m    279\u001b[0m \u001b[39mif\u001b[39;00m file \u001b[39min\u001b[39;00m {\u001b[39m0\u001b[39m, \u001b[39m1\u001b[39m, \u001b[39m2\u001b[39m}:\n\u001b[0;32m    280\u001b[0m     \u001b[39mraise\u001b[39;00m \u001b[39mValueError\u001b[39;00m(\n\u001b[0;32m    281\u001b[0m         \u001b[39mf\u001b[39m\u001b[39m\"\u001b[39m\u001b[39mIPython won\u001b[39m\u001b[39m'\u001b[39m\u001b[39mt let you open fd=\u001b[39m\u001b[39m{\u001b[39;00mfile\u001b[39m}\u001b[39;00m\u001b[39m by default \u001b[39m\u001b[39m\"\u001b[39m\n\u001b[0;32m    282\u001b[0m         \u001b[39m\"\u001b[39m\u001b[39mas it is likely to crash IPython. If you know what you are doing, \u001b[39m\u001b[39m\"\u001b[39m\n\u001b[0;32m    283\u001b[0m         \u001b[39m\"\u001b[39m\u001b[39myou can use builtins\u001b[39m\u001b[39m'\u001b[39m\u001b[39m open.\u001b[39m\u001b[39m\"\u001b[39m\n\u001b[0;32m    284\u001b[0m     )\n\u001b[1;32m--> 286\u001b[0m \u001b[39mreturn\u001b[39;00m io_open(file, \u001b[39m*\u001b[39margs, \u001b[39m*\u001b[39m\u001b[39m*\u001b[39mkwargs)\n",
      "\u001b[1;31mFileNotFoundError\u001b[0m: [Errno 2] No such file or directory: 'class12.py'"
     ]
    }
   ],
   "source": [
    "open(\"class12.py\")"
   ]
  },
  {
   "cell_type": "markdown",
   "metadata": {},
   "source": [
    "# Error handling\n",
    "```\n",
    "try:\n",
    "    logic\n",
    "except (Error_class1, Error_class2):\n",
    "    if error accured then run this block\n",
    "else:\n",
    "    if error not accured\n",
    "finally:\n",
    "    always run\n",
    "```"
   ]
  },
  {
   "cell_type": "code",
   "execution_count": 44,
   "metadata": {},
   "outputs": [
    {
     "name": "stdout",
     "output_type": "stream",
     "text": [
      "logic1\n",
      "logic2\n",
      "Zerro Division Error!\n",
      "logic4\n",
      "logic5\n"
     ]
    }
   ],
   "source": [
    "print(\"logic1\")\n",
    "print(\"logic2\")\n",
    "try:\n",
    "    print(5/0)# Error\n",
    "except ZeroDivisionError:\n",
    "    print(\"Zerro Division Error!\")\n",
    "print(\"logic4\")\n",
    "print(\"logic5\")"
   ]
  },
  {
   "cell_type": "code",
   "execution_count": 45,
   "metadata": {},
   "outputs": [
    {
     "name": "stdout",
     "output_type": "stream",
     "text": [
      "logic1\n",
      "logic2\n",
      "logic4\n",
      "logic5\n"
     ]
    }
   ],
   "source": [
    "print(\"logic1\")\n",
    "print(\"logic2\")\n",
    "try:\n",
    "    print(5/0)# Error\n",
    "except (ZeroDivisionError):\n",
    "    pass\n",
    "print(\"logic4\")\n",
    "print(\"logic5\")"
   ]
  },
  {
   "cell_type": "code",
   "execution_count": 48,
   "metadata": {},
   "outputs": [
    {
     "name": "stdout",
     "output_type": "stream",
     "text": [
      "logic1\n",
      "logic2\n",
      "Zerro Division Error!\n",
      "2.5\n",
      "<class 'IndexError'>\n",
      "logic4\n",
      "logic5\n",
      "2.5\n",
      "2\n",
      "<class 'NameError'>\n",
      "logic4\n",
      "logic5\n"
     ]
    }
   ],
   "source": [
    "print(\"logic1\")\n",
    "print(\"logic2\")\n",
    "\n",
    "l1 : list[int] = [1,2,3]\n",
    "\n",
    "try:\n",
    "    print(5/0)\n",
    "    print(l1[0])\n",
    "    print(xyz) # error\n",
    "except (ZeroDivisionError,IndexError,NameError):\n",
    "    print(\"Zerro Division Error!\")\n",
    "try:\n",
    "    print(5/2)\n",
    "    print(l1[100])\n",
    "    print(xyz) # error\n",
    "except (ZeroDivisionError,IndexError,NameError):\n",
    "    print(IndexError)\n",
    "print(\"logic4\")\n",
    "print(\"logic5\")\n",
    "try:\n",
    "    print(5/2)\n",
    "    print(l1[1])\n",
    "    print(xyz) # error\n",
    "except (ZeroDivisionError,IndexError,NameError):\n",
    "    print(NameError)\n",
    "print(\"logic4\")\n",
    "print(\"logic5\")"
   ]
  }
 ],
 "metadata": {
  "kernelspec": {
   "display_name": "Python 3",
   "language": "python",
   "name": "python3"
  },
  "language_info": {
   "codemirror_mode": {
    "name": "ipython",
    "version": 3
   },
   "file_extension": ".py",
   "mimetype": "text/x-python",
   "name": "python",
   "nbconvert_exporter": "python",
   "pygments_lexer": "ipython3",
   "version": "3.11.5"
  }
 },
 "nbformat": 4,
 "nbformat_minor": 2
}
