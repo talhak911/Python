{
 "cells": [
  {
   "cell_type": "markdown",
   "metadata": {},
   "source": [
    "# Callable"
   ]
  },
  {
   "cell_type": "code",
   "execution_count": 8,
   "metadata": {},
   "outputs": [
    {
     "name": "stdout",
     "output_type": "stream",
     "text": [
      "120\n"
     ]
    }
   ],
   "source": [
    "from typing import Any\n",
    "\n",
    "\n",
    "class fac():\n",
    "    def __init__(self):\n",
    "        self.cache={0:1,1:1}\n",
    "    def __call__(self,num):\n",
    "        for data in self.cache:\n",
    "            if num not in self.cache:\n",
    "                self.cache[num]=num*self(num-1)\n",
    "            return self.cache[num]\n",
    "f1= fac()\n",
    "print(f1(5))"
   ]
  },
  {
   "cell_type": "code",
   "execution_count": 10,
   "metadata": {},
   "outputs": [
    {
     "data": {
      "text/plain": [
       "'MyClass(This is public)'"
      ]
     },
     "execution_count": 10,
     "metadata": {},
     "output_type": "execute_result"
    }
   ],
   "source": [
    "class MyClass:\n",
    "    def __init__(self):\n",
    "        self.public_member = \"This is public\"\n",
    "        self._protected_member = \"This is protected\"\n",
    "        self.__private_member = \"This is private\"\n",
    "\n",
    "    def __str__(self):\n",
    "        return f\"MyClass({self.public_member})\"\n",
    "obj = MyClass()\n",
    "obj.__str__()"
   ]
  },
  {
   "cell_type": "code",
   "execution_count": 19,
   "metadata": {},
   "outputs": [
    {
     "name": "stdout",
     "output_type": "stream",
     "text": [
      "007\n",
      "After setting new id :  009\n"
     ]
    }
   ],
   "source": [
    "class MyClass:\n",
    "    def __init__(self,id:str,password:int) -> None:\n",
    "        self.__id=id\n",
    "        self.__password=password\n",
    "    def getId(self)->str:\n",
    "        return self.__id\n",
    "    def setId(self,setID:str)->str:\n",
    "        self.__id=setID\n",
    "        return setID\n",
    "obj = MyClass(\"007\",123)\n",
    "# print(obj.__id) private cannot accesss\n",
    "print(obj.getId())\n",
    "# set new id\n",
    "obj.setId(\"009\")\n",
    "print(\"After setting new id : \" , obj.getId())"
   ]
  },
  {
   "cell_type": "code",
   "execution_count": 24,
   "metadata": {},
   "outputs": [
    {
     "ename": "AttributeError",
     "evalue": "'MyClass' object has no attribute '__id'",
     "output_type": "error",
     "traceback": [
      "\u001b[1;31m---------------------------------------------------------------------------\u001b[0m",
      "\u001b[1;31mAttributeError\u001b[0m                            Traceback (most recent call last)",
      "\u001b[1;32md:\\Apiaic\\python\\15class\\class15.ipynb Cell 5\u001b[0m line \u001b[0;36m1\n\u001b[0;32m      <a href='vscode-notebook-cell:/d%3A/Apiaic/python/15class/class15.ipynb#W4sZmlsZQ%3D%3D?line=8'>9</a>\u001b[0m         \u001b[39mreturn\u001b[39;00m setID\n\u001b[0;32m     <a href='vscode-notebook-cell:/d%3A/Apiaic/python/15class/class15.ipynb#W4sZmlsZQ%3D%3D?line=9'>10</a>\u001b[0m obj \u001b[39m=\u001b[39m MyClass(\u001b[39m\"\u001b[39m\u001b[39m007\u001b[39m\u001b[39m\"\u001b[39m,\u001b[39m123\u001b[39m)\n\u001b[1;32m---> <a href='vscode-notebook-cell:/d%3A/Apiaic/python/15class/class15.ipynb#W4sZmlsZQ%3D%3D?line=10'>11</a>\u001b[0m \u001b[39mprint\u001b[39m(obj\u001b[39m.\u001b[39m__id)\n",
      "\u001b[1;31mAttributeError\u001b[0m: 'MyClass' object has no attribute '__id'"
     ]
    }
   ],
   "source": [
    "class MyClass:\n",
    "    def __init__(self,id:str,password:int) -> None:\n",
    "        self.__id=id\n",
    "        self.__password=password\n",
    "    def getId(self)->str:\n",
    "        return self._id\n",
    "    def setId(self,setID:str)->str:\n",
    "        self._id=setID\n",
    "        return setID\n",
    "obj = MyClass(\"007\",123)\n",
    "\n",
    "print(obj.__id) #private cannot accesss\n"
   ]
  },
  {
   "cell_type": "code",
   "execution_count": 36,
   "metadata": {},
   "outputs": [],
   "source": [
    "class EncapsulatedObject:\n",
    "    def __init__(self):\n",
    "        self._my_protected_var = 0\n",
    "    \n",
    "    @property\n",
    "    def my_var(self) -> int:\n",
    "        \"\"\"Getter for my_var.\"\"\"\n",
    "        return self._my_protected_var\n",
    "\n",
    "    @my_var.setter\n",
    "    def my_var(self, value: int) -> None:\n",
    "        \"\"\"Setter for my_var.\"\"\"\n",
    "        if value < 0:\n",
    "            raise ValueError(\"This variable cannot be negative.\")\n",
    "        self._my_protected_var = value\n",
    "obj = EncapsulatedObject()\n",
    "# obj.my_var()\n",
    "# obj.my_var(2) error because it is property not method and it is accessed like attribute\n",
    "obj.my_var\n",
    "obj.my_var =22 # ok"
   ]
  },
  {
   "cell_type": "code",
   "execution_count": 30,
   "metadata": {},
   "outputs": [
    {
     "data": {
      "text/plain": [
       "20"
      ]
     },
     "execution_count": 30,
     "metadata": {},
     "output_type": "execute_result"
    }
   ],
   "source": [
    "class EncapsulatedObject:\n",
    "    def __init__(self):\n",
    "        self._my_protected_var = 0\n",
    "    \n",
    "    @property\n",
    "    def my_var(self) -> int:\n",
    "        \"\"\"Getter for my_var.\"\"\"\n",
    "        return self._my_protected_var\n",
    "\n",
    "    @my_var.setter\n",
    "    def my_var(self, value: int) -> None:\n",
    "        \"\"\"Setter for my_var.\"\"\"\n",
    "        if value < 0:\n",
    "            raise ValueError(\"This variable cannot be negative.\")\n",
    "        self._my_protected_var = value\n",
    "obj = EncapsulatedObject()\n",
    "obj._my_protected_var=20\n",
    "obj._my_protected_var"
   ]
  },
  {
   "cell_type": "markdown",
   "metadata": {},
   "source": [
    "# Abstract Classes"
   ]
  },
  {
   "cell_type": "code",
   "execution_count": 40,
   "metadata": {},
   "outputs": [
    {
     "ename": "SyntaxError",
     "evalue": "incomplete input (294107091.py, line 8)",
     "output_type": "error",
     "traceback": [
      "\u001b[1;36m  Cell \u001b[1;32mIn[40], line 8\u001b[1;36m\u001b[0m\n\u001b[1;33m    \u001b[0m\n\u001b[1;37m    ^\u001b[0m\n\u001b[1;31mSyntaxError\u001b[0m\u001b[1;31m:\u001b[0m incomplete input\n"
     ]
    }
   ],
   "source": [
    "from abc import ABC,abstractmethod, abstractproperty\n",
    "class Shape(ABC):\n",
    "    @abstractmethod\n",
    "    def area(self):\n",
    "        pass\n",
    "    a:int\n",
    "class Rectangle(Shape):\n",
    "    "
   ]
  },
  {
   "cell_type": "code",
   "execution_count": 3,
   "metadata": {},
   "outputs": [],
   "source": [
    "from abc import ABC, abstractmethod\n",
    "\n",
    "class AbstractClassExample(ABC):\n",
    "\n",
    "    @abstractmethod\n",
    "    def do_something(self):\n",
    "        pass\n",
    "\n",
    "class ConcreteClass(AbstractClassExample):\n",
    "    \n",
    "    def do_somethin(self):\n",
    "        return \"Doing something.\""
   ]
  }
 ],
 "metadata": {
  "kernelspec": {
   "display_name": "Python 3",
   "language": "python",
   "name": "python3"
  },
  "language_info": {
   "codemirror_mode": {
    "name": "ipython",
    "version": 3
   },
   "file_extension": ".py",
   "mimetype": "text/x-python",
   "name": "python",
   "nbconvert_exporter": "python",
   "pygments_lexer": "ipython3",
   "version": "3.11.5"
  }
 },
 "nbformat": 4,
 "nbformat_minor": 2
}
