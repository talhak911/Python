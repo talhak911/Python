{
 "cells": [
  {
   "cell_type": "markdown",
   "metadata": {},
   "source": [
    "# for loop for iteration"
   ]
  },
  {
   "cell_type": "code",
   "execution_count": 2,
   "metadata": {},
   "outputs": [
    {
     "name": "stdout",
     "output_type": "stream",
     "text": [
      "Welcome Dear Teacher Sir Zia\n",
      "Welcome Dear Teacher Muhammad Qasim\n",
      "Welcome Dear Teacher Dr Noman\n",
      "Team PIAIC\n"
     ]
    }
   ],
   "source": [
    "names : list[str] = [\"Sir Zia\",\"Muhammad qasim\", \"Dr noman\"]\n",
    "for name in names:\n",
    "    print(f\"Welcome Dear Teacher {name.title()}\")\n",
    "print(\"Team PIAIC\")"
   ]
  },
  {
   "cell_type": "code",
   "execution_count": 20,
   "metadata": {},
   "outputs": [
    {
     "data": {
      "text/plain": [
       "[(0, 'Sir Zia'), (1, 'Muhammad qasim'), (2, 'Dr noman')]"
      ]
     },
     "execution_count": 20,
     "metadata": {},
     "output_type": "execute_result"
    }
   ],
   "source": [
    "names : list[str] = [\"Sir Zia\",\"Muhammad qasim\", \"Dr noman\"]\n",
    "list(enumerate(names))"
   ]
  },
  {
   "cell_type": "code",
   "execution_count": 16,
   "metadata": {},
   "outputs": [
    {
     "name": "stdout",
     "output_type": "stream",
     "text": [
      "0 Sir Zia\n",
      "1 Muhammad qasim\n",
      "2 Dr noman\n"
     ]
    }
   ],
   "source": [
    "names : list[str] = [\"Sir Zia\",\"Muhammad qasim\", \"Dr noman\"]\n",
    "for index, name in enumerate(names): \n",
    "    print(index,name)"
   ]
  },
  {
   "cell_type": "code",
   "execution_count": 5,
   "metadata": {},
   "outputs": [
    {
     "name": "stdout",
     "output_type": "stream",
     "text": [
      "Welcome Dear Teacher Muhammad Qasim\n",
      "Welcome Dear Teacher Dr Noman\n",
      "Team PIAIC\n"
     ]
    }
   ],
   "source": [
    "names : list[str] = [\"Sir Zia\",\"Muhammad qasim\", \"Dr noman\"]\n",
    "for name in names[1:3:1]:  #\n",
    "    print(f\"Welcome Dear Teacher {name.title()}\")\n",
    "print(\"Team PIAIC\")"
   ]
  },
  {
   "cell_type": "code",
   "execution_count": 7,
   "metadata": {},
   "outputs": [
    {
     "name": "stdout",
     "output_type": "stream",
     "text": [
      "Valid user\n"
     ]
    }
   ],
   "source": [
    "data: list[tuple[str,str]]=[(\"Talha\",\"12\"),(\"qasim\",\"23\"),(\"Ali\",\"33\")]\n",
    "input_user:str = input(\"Enter username\")\n",
    "input_password:str = input(\"Enter password\")\n",
    "\n",
    "for row in data:\n",
    "    user,password = row\n",
    "    if input_user == user and input_password == password:\n",
    "        print(\"Valid user\")\n",
    "        break\n",
    "else:\n",
    "    print(\"User not found\")"
   ]
  },
  {
   "cell_type": "markdown",
   "metadata": {},
   "source": [
    "# local variable in loop last iteration will be accessible in globla"
   ]
  },
  {
   "cell_type": "code",
   "execution_count": 9,
   "metadata": {},
   "outputs": [
    {
     "name": "stdout",
     "output_type": "stream",
     "text": [
      "Welcome Dear Teacher Sir Zia\n",
      "Welcome Dear Teacher Muhammad Qasim\n",
      "Welcome Dear Teacher Dr Noman\n",
      "Last iteration  Dr noman\n"
     ]
    }
   ],
   "source": [
    "names : list[str] = [\"Sir Zia\",\"Muhammad qasim\", \"Dr noman\"]\n",
    "for name in names:\n",
    "    print(f\"Welcome Dear Teacher {name.title()}\")\n",
    "print(\"Last iteration \",name)"
   ]
  },
  {
   "cell_type": "markdown",
   "metadata": {},
   "source": [
    "# Numbers with loop\n",
    "* range(start,end,step)"
   ]
  },
  {
   "cell_type": "code",
   "execution_count": 10,
   "metadata": {},
   "outputs": [
    {
     "data": {
      "text/plain": [
       "range(0, 10)"
      ]
     },
     "execution_count": 10,
     "metadata": {},
     "output_type": "execute_result"
    }
   ],
   "source": [
    "range(10)"
   ]
  },
  {
   "cell_type": "code",
   "execution_count": 11,
   "metadata": {},
   "outputs": [
    {
     "data": {
      "text/plain": [
       "[0, 1, 2, 3, 4, 5, 6, 7, 8, 9]"
      ]
     },
     "execution_count": 11,
     "metadata": {},
     "output_type": "execute_result"
    }
   ],
   "source": [
    "list(range(10))"
   ]
  },
  {
   "cell_type": "code",
   "execution_count": 14,
   "metadata": {},
   "outputs": [
    {
     "data": {
      "text/plain": [
       "[2, 4, 6, 8, 10, 12, 14, 16, 18, 20]"
      ]
     },
     "execution_count": 14,
     "metadata": {},
     "output_type": "execute_result"
    }
   ],
   "source": [
    "list(range(2,21,2)) # 2 to 21-1:20"
   ]
  },
  {
   "cell_type": "code",
   "execution_count": 21,
   "metadata": {},
   "outputs": [
    {
     "name": "stdout",
     "output_type": "stream",
     "text": [
      "[1, 4, 9, 16, 25, 36, 49, 64, 81, 100]\n"
     ]
    }
   ],
   "source": [
    "squares : list [int]=[]\n",
    "for i in range(1,11):\n",
    "    squares.append(i**2)\n",
    "print(squares)"
   ]
  },
  {
   "cell_type": "code",
   "execution_count": 22,
   "metadata": {},
   "outputs": [
    {
     "name": "stdout",
     "output_type": "stream",
     "text": [
      "2 X 1 = 2\n",
      "2 X 2 = 4\n",
      "2 X 3 = 6\n",
      "2 X 4 = 8\n",
      "2 X 5 = 10\n",
      "2 X 6 = 12\n",
      "2 X 7 = 14\n",
      "2 X 8 = 16\n",
      "2 X 9 = 18\n",
      "2 X 10 = 20\n"
     ]
    }
   ],
   "source": [
    "for i in range(1,11):\n",
    "    print(f\"{2} X {i} = {i*2}\")"
   ]
  },
  {
   "cell_type": "code",
   "execution_count": 28,
   "metadata": {},
   "outputs": [
    {
     "name": "stdout",
     "output_type": "stream",
     "text": [
      "[1, 4, 9, 16, 25, 36, 49, 64, 81, 100]\n"
     ]
    }
   ],
   "source": [
    "print([i**2 for i in range(1,11)])"
   ]
  },
  {
   "cell_type": "code",
   "execution_count": 30,
   "metadata": {},
   "outputs": [
    {
     "name": "stdout",
     "output_type": "stream",
     "text": [
      "100\n"
     ]
    }
   ],
   "source": [
    "numbers :list[int]=[1, 4, 9, 16, 25, 36, 49, 64, 81, 100]\n",
    "print(max(numbers))\n"
   ]
  },
  {
   "cell_type": "markdown",
   "metadata": {},
   "source": [
    "# slicing do deep copy"
   ]
  },
  {
   "cell_type": "code",
   "execution_count": 33,
   "metadata": {},
   "outputs": [
    {
     "name": "stdout",
     "output_type": "stream",
     "text": [
      "['first', 'Muhammad qasim', 'Dr noman']\n",
      "['first', 'Muhammad qasim', 'Dr noman']\n"
     ]
    }
   ],
   "source": [
    "names : list[str] = [\"Sir Zia\",\"Muhammad qasim\", \"Dr noman\"]\n",
    "names1 = names # shalow copy\n",
    "names1[0]=\"first\"\n",
    "print(names1)\n",
    "print(names)"
   ]
  },
  {
   "cell_type": "code",
   "execution_count": 34,
   "metadata": {},
   "outputs": [
    {
     "name": "stdout",
     "output_type": "stream",
     "text": [
      "['first', 'Muhammad qasim', 'Dr noman']\n",
      "['Sir Zia', 'Muhammad qasim', 'Dr noman']\n"
     ]
    }
   ],
   "source": [
    "names : list[str] = [\"Sir Zia\",\"Muhammad qasim\", \"Dr noman\"]\n",
    "names1 = names[:] # deep copy\n",
    "names1[0]=\"first\"\n",
    "print(names1)\n",
    "print(names)"
   ]
  },
  {
   "cell_type": "markdown",
   "metadata": {},
   "source": [
    "# Tuple "
   ]
  },
  {
   "cell_type": "code",
   "execution_count": 44,
   "metadata": {},
   "outputs": [
    {
     "name": "stdout",
     "output_type": "stream",
     "text": [
      "['Sir Zia', [0, 1, 2, 3, 4], 'Dr noman']\n"
     ]
    }
   ],
   "source": [
    "newName : tuple[any]=[\"Sir Zia\",[0,1,2,3], \"Dr noman\"]\n",
    "newName[1].append(4)\n",
    "print(newName)\n"
   ]
  }
 ],
 "metadata": {
  "kernelspec": {
   "display_name": "Python 3",
   "language": "python",
   "name": "python3"
  },
  "language_info": {
   "codemirror_mode": {
    "name": "ipython",
    "version": 3
   },
   "file_extension": ".py",
   "mimetype": "text/x-python",
   "name": "python",
   "nbconvert_exporter": "python",
   "pygments_lexer": "ipython3",
   "version": "3.11.5"
  }
 },
 "nbformat": 4,
 "nbformat_minor": 2
}
