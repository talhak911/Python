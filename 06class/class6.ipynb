{
 "cells": [
  {
   "cell_type": "markdown",
   "metadata": {},
   "source": [
    "# if-else-elif\n",
    "```\n",
    "if logic:\n",
    "    true_block\n",
    "else:\n",
    "    false_block\n",
    "```\n",
    "# comprehensive if-else\n",
    "```\n",
    "true_block if logic else false_block\n",
    "```\n",
    "* if\n",
    "* if-else\n",
    "* if-elif-else"
   ]
  },
  {
   "cell_type": "code",
   "execution_count": 1,
   "metadata": {},
   "outputs": [
    {
     "name": "stdout",
     "output_type": "stream",
     "text": [
      "Pakistan zindabad\n"
     ]
    }
   ],
   "source": [
    "if True:\n",
    "    print(\"Pakistan zindabad\")\n",
    "else:\n",
    "    print(\"Hello world!\")"
   ]
  },
  {
   "cell_type": "code",
   "execution_count": 5,
   "metadata": {},
   "outputs": [
    {
     "name": "stdout",
     "output_type": "stream",
     "text": [
      "Hello world!\n"
     ]
    }
   ],
   "source": [
    "print(\"pakistan zinda bad\") if False else print(\"Hello world!\")"
   ]
  },
  {
   "cell_type": "code",
   "execution_count": 8,
   "metadata": {},
   "outputs": [
    {
     "name": "stdout",
     "output_type": "stream",
     "text": [
      "elif  block1\n"
     ]
    }
   ],
   "source": [
    "if False:\n",
    "    print(\"IF  block\")\n",
    "elif True:\n",
    "    print(\"elif  block1\")\n",
    "elif True:\n",
    "    print(\"elif  block2\")\n",
    "else :\n",
    "    print(\"Final\")"
   ]
  },
  {
   "cell_type": "markdown",
   "metadata": {},
   "source": [
    "# Alias type"
   ]
  },
  {
   "cell_type": "code",
   "execution_count": 13,
   "metadata": {},
   "outputs": [
    {
     "data": {
      "text/plain": [
       "[(80, 'A+', 0),\n",
       " (23, 'F', 1),\n",
       " (33.5, 'E', 2),\n",
       " (66, 'B', 3),\n",
       " (78, 'A', 4),\n",
       " (45, 'D', 5),\n",
       " (77, 'A', 6),\n",
       " (54.8, 'C', 7)]"
      ]
     },
     "execution_count": 13,
     "metadata": {},
     "output_type": "execute_result"
    }
   ],
   "source": [
    "from typing import Union\n",
    "perType = Union[int,float]\n",
    "percentages :list[perType]=[80,23,33.5,66,78,45,77,54.8]\n",
    "grades:list [str] = []\n",
    "\n",
    "for percentage in percentages:\n",
    "    grade=''\n",
    "    if percentage >=80:\n",
    "        grade = \"A+\"\n",
    "    elif percentage >=70:\n",
    "        grade = \"A\"\n",
    "    elif percentage >=60:\n",
    "        grade = \"B\"\n",
    "    elif percentage >=50:\n",
    "        grade = \"C\"\n",
    "    elif percentage >=40:\n",
    "        grade = \"D\"\n",
    "    elif percentage >=33:\n",
    "        grade = \"E\"\n",
    "    else:\n",
    "        grade = \"F\"\n",
    "    grades.append(grade)\n",
    "list(zip(percentages,grades,list(range(len(percentages)))))"
   ]
  },
  {
   "cell_type": "code",
   "execution_count": 16,
   "metadata": {},
   "outputs": [
    {
     "data": {
      "text/plain": [
       "range(0, 6)"
      ]
     },
     "execution_count": 16,
     "metadata": {},
     "output_type": "execute_result"
    }
   ],
   "source": [
    "range(6)"
   ]
  },
  {
   "cell_type": "code",
   "execution_count": 17,
   "metadata": {},
   "outputs": [
    {
     "data": {
      "text/plain": [
       "8"
      ]
     },
     "execution_count": 17,
     "metadata": {},
     "output_type": "execute_result"
    }
   ],
   "source": [
    "len(percentages)"
   ]
  },
  {
   "cell_type": "code",
   "execution_count": 25,
   "metadata": {},
   "outputs": [
    {
     "data": {
      "text/plain": [
       "range(0, 8)"
      ]
     },
     "execution_count": 25,
     "metadata": {},
     "output_type": "execute_result"
    }
   ],
   "source": [
    "range(len(percentages))"
   ]
  },
  {
   "cell_type": "code",
   "execution_count": 24,
   "metadata": {},
   "outputs": [
    {
     "data": {
      "text/plain": [
       "[0, 1, 2, 3, 4, 5, 6, 7]"
      ]
     },
     "execution_count": 24,
     "metadata": {},
     "output_type": "execute_result"
    }
   ],
   "source": [
    "list(range(len(percentages)))"
   ]
  },
  {
   "cell_type": "code",
   "execution_count": 28,
   "metadata": {},
   "outputs": [
    {
     "data": {
      "text/plain": [
       "[0, 1, 2, 3, 4, 5, 6, 7]"
      ]
     },
     "execution_count": 28,
     "metadata": {},
     "output_type": "execute_result"
    }
   ],
   "source": [
    "list(range(0,8))"
   ]
  },
  {
   "cell_type": "code",
   "execution_count": 29,
   "metadata": {},
   "outputs": [
    {
     "data": {
      "text/plain": [
       "True"
      ]
     },
     "execution_count": 29,
     "metadata": {},
     "output_type": "execute_result"
    }
   ],
   "source": [
    "80 in percentages"
   ]
  },
  {
   "cell_type": "code",
   "execution_count": 30,
   "metadata": {},
   "outputs": [
    {
     "data": {
      "text/plain": [
       "['fsd', 'fds']"
      ]
     },
     "execution_count": 30,
     "metadata": {},
     "output_type": "execute_result"
    }
   ],
   "source": [
    "input(\"Enter pizza toppings seperated by ',\").split(',')"
   ]
  },
  {
   "cell_type": "code",
   "execution_count": 33,
   "metadata": {},
   "outputs": [
    {
     "data": {
      "text/plain": [
       "([(0, 80, 'A+'),\n",
       "  (1, 23, 'F'),\n",
       "  (2, 33.5, 'E'),\n",
       "  (3, 66, 'B'),\n",
       "  (4, 78, 'A'),\n",
       "  (5, 45, 'D'),\n",
       "  (6, 77, 'A'),\n",
       "  (7, 54.8, 'C')],\n",
       " <function __main__.<lambda>(x)>)"
      ]
     },
     "execution_count": 33,
     "metadata": {},
     "output_type": "execute_result"
    }
   ],
   "source": [
    "list(zip(range(len(percentages)),percentages,grades)),lambda x:x[1]"
   ]
  },
  {
   "cell_type": "code",
   "execution_count": 37,
   "metadata": {},
   "outputs": [
    {
     "data": {
      "text/plain": [
       "[(1, 23, 'F'),\n",
       " (2, 33.5, 'E'),\n",
       " (5, 45, 'D'),\n",
       " (7, 54.8, 'C'),\n",
       " (3, 66, 'B'),\n",
       " (6, 77, 'A'),\n",
       " (4, 78, 'A'),\n",
       " (0, 80, 'A+')]"
      ]
     },
     "execution_count": 37,
     "metadata": {},
     "output_type": "execute_result"
    }
   ],
   "source": [
    "sorted(list(zip(range(len(percentages)),percentages,grades)),key= lambda x:x[1])"
   ]
  },
  {
   "cell_type": "code",
   "execution_count": 38,
   "metadata": {},
   "outputs": [
    {
     "data": {
      "text/plain": [
       "[(0, 80, 'A+'),\n",
       " (4, 78, 'A'),\n",
       " (6, 77, 'A'),\n",
       " (3, 66, 'B'),\n",
       " (7, 54.8, 'C'),\n",
       " (5, 45, 'D'),\n",
       " (2, 33.5, 'E'),\n",
       " (1, 23, 'F')]"
      ]
     },
     "execution_count": 38,
     "metadata": {},
     "output_type": "execute_result"
    }
   ],
   "source": [
    "sorted(list(zip(range(len(percentages)),percentages,grades)),key= lambda x:x[1],reverse=True)"
   ]
  }
 ],
 "metadata": {
  "kernelspec": {
   "display_name": "Python 3",
   "language": "python",
   "name": "python3"
  },
  "language_info": {
   "codemirror_mode": {
    "name": "ipython",
    "version": 3
   },
   "file_extension": ".py",
   "mimetype": "text/x-python",
   "name": "python",
   "nbconvert_exporter": "python",
   "pygments_lexer": "ipython3",
   "version": "3.11.5"
  }
 },
 "nbformat": 4,
 "nbformat_minor": 2
}
