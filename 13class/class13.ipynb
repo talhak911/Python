{
 "cells": [
  {
   "cell_type": "markdown",
   "metadata": {},
   "source": []
  },
  {
   "cell_type": "code",
   "execution_count": 9,
   "metadata": {},
   "outputs": [
    {
     "name": "stdout",
     "output_type": "stream",
     "text": [
      "Talha\n"
     ]
    }
   ],
   "source": [
    "class person():\n",
    "    def __init__(self,name:str) -> None:\n",
    "        self.name = name\n",
    "talha = person(\"Talha\")\n",
    "print(talha.name)"
   ]
  },
  {
   "cell_type": "code",
   "execution_count": 13,
   "metadata": {},
   "outputs": [
    {
     "name": "stdout",
     "output_type": "stream",
     "text": [
      "<__main__.Teacher object at 0x0000001E7E329490>\n",
      "Talha\n",
      "20\n",
      "Talha is speaking English\n"
     ]
    }
   ],
   "source": [
    "class Teacher():\n",
    "    def __init__(self,name:str,age:int) -> None:\n",
    "        self.name = name\n",
    "        self.age = age\n",
    "    def subject(self,s:str):\n",
    "        self.subject=s\n",
    "    def speak(self,words:str):\n",
    "        print(f\"{self.name} is speaking {words}\")\n",
    "\n",
    "talha = Teacher(\"Talha\",20)\n",
    "print(talha)\n",
    "print(talha.name)\n",
    "print(talha.age)\n",
    "talha.speak(\"English\")"
   ]
  },
  {
   "cell_type": "code",
   "execution_count": 23,
   "metadata": {},
   "outputs": [
    {
     "data": {
      "text/plain": [
       "['age', 'name', 'speak', 'subject']"
      ]
     },
     "execution_count": 23,
     "metadata": {},
     "output_type": "execute_result"
    }
   ],
   "source": [
    "[att for att in dir(talha) if \"__\" not in att]"
   ]
  },
  {
   "cell_type": "markdown",
   "metadata": {},
   "source": [
    "```\n",
    "Class Variable\n",
    "Class variable\n",
    "\n",
    "this value use for all objects\n",
    "\n",
    "ClassName.class_variable\n",
    "object_name.class_variable\n",
    "class ClassName():\n",
    "    class_variable1 : type = Value\n",
    "```"
   ]
  },
  {
   "cell_type": "code",
   "execution_count": 24,
   "metadata": {},
   "outputs": [
    {
     "name": "stdout",
     "output_type": "stream",
     "text": [
      "Piaic\n"
     ]
    }
   ],
   "source": [
    "class Teacher():\n",
    "    school:str=\"Piaic\" # class variable\n",
    "    def __init__(self,name:str,age:int) -> None:\n",
    "        self.name = name\n",
    "        self.age = age\n",
    "    def subject(self,s:str):\n",
    "        self.subject=s\n",
    "    def speak(self,words:str):\n",
    "        print(f\"{self.name} is speaking {words}\")\n",
    "print(Teacher.school)"
   ]
  },
  {
   "cell_type": "code",
   "execution_count": 27,
   "metadata": {},
   "outputs": [
    {
     "name": "stdout",
     "output_type": "stream",
     "text": [
      "piic\n"
     ]
    }
   ],
   "source": [
    "class Teacher():\n",
    "    school:str=\"Piaic\" # class variable\n",
    "    def __init__(self,name:str,age:int) -> None:\n",
    "        self.name = name\n",
    "        self.age = age\n",
    "    def subject(self,s:str):\n",
    "        self.subject=s\n",
    "    def speak(self,words:str):\n",
    "        print(f\"{self.name} is speaking {words}\")\n",
    "Teacher.school=\"piic\"\n",
    "print(Teacher.school)"
   ]
  },
  {
   "cell_type": "code",
   "execution_count": 26,
   "metadata": {},
   "outputs": [
    {
     "data": {
      "text/plain": [
       "'piic'"
      ]
     },
     "execution_count": 26,
     "metadata": {},
     "output_type": "execute_result"
    }
   ],
   "source": [
    "obj1 = Teacher(\"Talha\",20)\n",
    "obj1.school"
   ]
  },
  {
   "cell_type": "code",
   "execution_count": 28,
   "metadata": {},
   "outputs": [
    {
     "name": "stdout",
     "output_type": "stream",
     "text": [
      "Brown\n",
      "black\n",
      "Parent method speak: Pakistan zinda bad!\n",
      "You are looking TV!\n",
      "======Child object=======\n",
      "You are looking Cenima!\n",
      "Parent method speak: Hello World\n",
      "Brown\n",
      "black\n",
      "Child method for teaching : Generative AI\n"
     ]
    }
   ],
   "source": [
    "class Parents():\n",
    "    def __init__(self)->None:\n",
    "        self.eye_color : str = \"Brown\"\n",
    "        self.hair_color : str = \"black\"\n",
    "\n",
    "    def speak(self, words: str)->None:\n",
    "        print(f\"Parent method speak: {words}\")\n",
    "\n",
    "    def watching(sef, object_name : str)->None:\n",
    "        print(f\"You are looking {object_name}!\")\n",
    "\n",
    "\n",
    "class Child(Parents):\n",
    "    def teaching(self, subject : str = None)->None:\n",
    "        print(f'Child method for teaching : {subject}')\n",
    "     \n",
    "\n",
    "\n",
    "obj1 : Parents = Parents()\n",
    "print(obj1.eye_color)\n",
    "print(obj1.hair_color)\n",
    "obj1.speak(\"Pakistan zinda bad!\")\n",
    "obj1.watching(\"TV\")\n",
    "\n",
    "\n",
    "print(\"======Child object=======\")\n",
    "### Child object \n",
    "\n",
    "obj2 : Child = Child()\n",
    "obj2.watching(\"Cenima\")\n",
    "obj2.speak(\"Hello World\")\n",
    "print(obj2.eye_color)\n",
    "print(obj2.hair_color)\n",
    "obj2.teaching(\"Generative AI\")"
   ]
  },
  {
   "cell_type": "code",
   "execution_count": 33,
   "metadata": {},
   "outputs": [
    {
     "name": "stdout",
     "output_type": "stream",
     "text": [
      "talha\n",
      "12\n",
      "computer\n"
     ]
    }
   ],
   "source": [
    "class Person():\n",
    "    def __init__(self,name:str,age:int) -> None:\n",
    "        self.name = name\n",
    "        self.age = age\n",
    "    def speak(self,words:str):\n",
    "        print(f\"{self.name} is speaking {words}\")\n",
    "class teacher(Person):\n",
    "    def __init__(self,nameS:str,ageS:int, subjectS:str) -> None:\n",
    "        self.subject=subjectS\n",
    "        super().__init__(nameS,ageS)\n",
    "obj1:teacher = teacher(\"talha\",12,\"computer\")\n",
    "print(obj1.name)\n",
    "print(obj1.age)\n",
    "print(obj1.subject)"
   ]
  }
 ],
 "metadata": {
  "kernelspec": {
   "display_name": "Python 3",
   "language": "python",
   "name": "python3"
  },
  "language_info": {
   "codemirror_mode": {
    "name": "ipython",
    "version": 3
   },
   "file_extension": ".py",
   "mimetype": "text/x-python",
   "name": "python",
   "nbconvert_exporter": "python",
   "pygments_lexer": "ipython3",
   "version": "3.11.5"
  }
 },
 "nbformat": 4,
 "nbformat_minor": 2
}
