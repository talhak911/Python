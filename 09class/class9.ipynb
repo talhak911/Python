{
 "cells": [
  {
   "cell_type": "markdown",
   "metadata": {},
   "source": [
    "# loop and input\n",
    "* for loop\n",
    "* while \n",
    "# controls\n",
    "* break\n",
    "* continue\n",
    "* pass"
   ]
  },
  {
   "cell_type": "code",
   "execution_count": 1,
   "metadata": {},
   "outputs": [
    {
     "name": "stdout",
     "output_type": "stream",
     "text": [
      "1\n",
      "2\n",
      "3\n",
      "4\n",
      "5\n",
      "6\n",
      "7\n"
     ]
    }
   ],
   "source": [
    "numList : list[int] = [1,2,3,4,5,6]\n",
    "for num in numList:\n",
    "    print(num)"
   ]
  },
  {
   "cell_type": "code",
   "execution_count": 4,
   "metadata": {},
   "outputs": [
    {
     "name": "stdout",
     "output_type": "stream",
     "text": [
      "4\n",
      "4\n",
      "3\n",
      "2\n",
      "34\n",
      "4\n",
      "4\n"
     ]
    }
   ],
   "source": [
    "numtuple : tuple[int,...]=(4,4,3,2,34,4,4)\n",
    "for num in numtuple:\n",
    "    print(num)\n"
   ]
  },
  {
   "cell_type": "code",
   "execution_count": 7,
   "metadata": {},
   "outputs": [
    {
     "name": "stdout",
     "output_type": "stream",
     "text": [
      "key is name value is talha\n",
      "key is fname value is sadiq\n"
     ]
    }
   ],
   "source": [
    "stds:dict[str,str]={\"name\":\"talha\",\"fname\":\"sadiq\"}\n",
    "for std in stds:\n",
    "    print(f\"key is {std} value is {stds[std]}\")"
   ]
  },
  {
   "cell_type": "code",
   "execution_count": 33,
   "metadata": {},
   "outputs": [
    {
     "name": "stdout",
     "output_type": "stream",
     "text": [
      "value from list of set : {3, 4} \n",
      "value from list of set : {3, 54} \n"
     ]
    }
   ],
   "source": [
    "#           iteration perform on keys\n",
    "l1 : list[set[int]] = [{3,4,3},{3,54,3}]\n",
    "\n",
    "for k in l1:\n",
    "    print(f\"value from list of set : {k} \")"
   ]
  },
  {
   "cell_type": "code",
   "execution_count": 27,
   "metadata": {},
   "outputs": [
    {
     "name": "stdout",
     "output_type": "stream",
     "text": [
      "{'name': 'talha', 'fname': 'sadiq'}\n"
     ]
    }
   ],
   "source": [
    "stds : dict[str,str]={\"name\" : \"talha\",\"fname\":\"sadiq\"}\n",
    "print(stds)"
   ]
  },
  {
   "cell_type": "code",
   "execution_count": 36,
   "metadata": {},
   "outputs": [
    {
     "name": "stdout",
     "output_type": "stream",
     "text": [
      "['talha', 'ali', 'asif', 'sahil', 'babar', 'sholad']\n"
     ]
    }
   ],
   "source": [
    "names: list[str]= [\"talha\",\"ali\",\"asif\"]\n",
    "newnames: list[str]=[\"sahil\",\"babar\",\"sholad\"]\n",
    "names.extend(newnames)\n",
    "rollno:list[int]=list(range(len(names)))\n",
    "\n",
    "print(names)"
   ]
  },
  {
   "cell_type": "code",
   "execution_count": 37,
   "metadata": {},
   "outputs": [
    {
     "data": {
      "text/plain": [
       "[(0, 'talha'),\n",
       " (1, 'ali'),\n",
       " (2, 'asif'),\n",
       " (3, 'sahil'),\n",
       " (4, 'babar'),\n",
       " (5, 'sholad')]"
      ]
     },
     "execution_count": 37,
     "metadata": {},
     "output_type": "execute_result"
    }
   ],
   "source": [
    "names: list[str]= [\"talha\",\"ali\",\"asif\"]\n",
    "newnames: list[str]=[\"sahil\",\"babar\",\"sholad\"]\n",
    "names.extend(newnames)\n",
    "rollno:list[int]=list(range(len(names)))\n",
    "list(zip(rollno,names))\n"
   ]
  },
  {
   "cell_type": "code",
   "execution_count": 38,
   "metadata": {},
   "outputs": [
    {
     "data": {
      "text/plain": [
       "[(0, 'talha'),\n",
       " (1, 'ali'),\n",
       " (2, 'asif'),\n",
       " (3, 'sahil'),\n",
       " (4, 'babar'),\n",
       " (5, 'sholad')]"
      ]
     },
     "execution_count": 38,
     "metadata": {},
     "output_type": "execute_result"
    }
   ],
   "source": [
    "names: list[str]= [\"talha\",\"ali\",\"asif\"]\n",
    "newnames: list[str]=[\"sahil\",\"babar\",\"sholad\"]\n",
    "names.extend(newnames)\n",
    "list(zip(list(range(len(names))),names))\n"
   ]
  },
  {
   "cell_type": "code",
   "execution_count": 39,
   "metadata": {},
   "outputs": [
    {
     "name": "stdout",
     "output_type": "stream",
     "text": [
      "talha has roll no 0\n",
      "ali has roll no 1\n",
      "asif has roll no 2\n",
      "sahil has roll no 3\n",
      "babar has roll no 4\n",
      "sholad has roll no 5\n"
     ]
    }
   ],
   "source": [
    "names: list[str]= [\"talha\",\"ali\",\"asif\"]\n",
    "newnames: list[str]=[\"sahil\",\"babar\",\"sholad\"]\n",
    "names.extend(newnames)\n",
    "for r ,nam in zip(rollno,names):\n",
    "    print(f\"{nam} has roll no {r}\")"
   ]
  },
  {
   "cell_type": "code",
   "execution_count": 40,
   "metadata": {},
   "outputs": [
    {
     "name": "stdout",
     "output_type": "stream",
     "text": [
      "Even number is  0\n",
      "Even number is  2\n",
      "Even number is  4\n",
      "Even number is  6\n",
      "Even number is  8\n",
      "Even number is  10\n"
     ]
    }
   ],
   "source": [
    "flag : bool =True\n",
    "\n",
    "for i in range (11):\n",
    "        if i %2 ==0:\n",
    "            print(\"Even number is \",i)\n",
    "\n"
   ]
  },
  {
   "cell_type": "code",
   "execution_count": 43,
   "metadata": {},
   "outputs": [
    {
     "name": "stdout",
     "output_type": "stream",
     "text": [
      "current number is 0\n",
      "current number is 1\n",
      "current number is 2\n",
      "current number is 3\n",
      "current number is 4\n",
      "current number is 5\n",
      "current number is 6\n",
      "current number is 7\n",
      "current number is 8\n",
      "current number is 9\n"
     ]
    }
   ],
   "source": [
    "flag:bool = True\n",
    "count:int =0\n",
    "num: int =0\n",
    "while flag:\n",
    "    print(f\"current number is {num}\")\n",
    "    num+=1\n",
    "    if num==10:\n",
    "        flag =False"
   ]
  },
  {
   "cell_type": "code",
   "execution_count": 45,
   "metadata": {},
   "outputs": [
    {
     "name": "stdout",
     "output_type": "stream",
     "text": [
      "write exit, close, out to exit from loop\n",
      "write exit, close, out to exit from loop\n",
      "write exit, close, out to exit from loop\n",
      "write exit, close, out to exit from loop\n",
      "write exit, close, out to exit from loop\n",
      "write exit, close, out to exit from loop\n",
      "write exit, close, out to exit from loop\n"
     ]
    }
   ],
   "source": [
    "data:list[dict[str,str]]=[]\n",
    "flag :bool = True\n",
    "while flag:\n",
    "    print(\"write exit, close, out to exit from loop\")\n",
    "    name:str = input(\"whats your name\")\n",
    "    age:str = input(\"whats your age\")\n",
    "    if name in [\"exit\",\"close\",\"out\"]:\n",
    "        flag=False\n",
    "    else:\n",
    "        data.append({\"name\":name,\"age\":age})"
   ]
  },
  {
   "cell_type": "code",
   "execution_count": 46,
   "metadata": {},
   "outputs": [
    {
     "name": "stdout",
     "output_type": "stream",
     "text": [
      "['dog', 'cat', 'dog', 'goldfish', 'cat', 'rabbit', 'cat']\n",
      "['dog', 'dog', 'goldfish', 'rabbit']\n"
     ]
    }
   ],
   "source": [
    "pets = ['dog', 'cat', 'dog', 'goldfish', 'cat', 'rabbit', 'cat'] \n",
    "print(pets)\n",
    "\n",
    "while 'cat' in pets:\n",
    "    pets.remove('cat')\n",
    "print(pets)"
   ]
  },
  {
   "cell_type": "code",
   "execution_count": 48,
   "metadata": {},
   "outputs": [
    {
     "name": "stdout",
     "output_type": "stream",
     "text": [
      "3\n",
      "2\n",
      "1\n"
     ]
    }
   ],
   "source": [
    "data : list[int]=[1,2,3]\n",
    "while data:\n",
    "    n:int = data.pop()\n",
    "    print(n)"
   ]
  },
  {
   "cell_type": "code",
   "execution_count": 52,
   "metadata": {},
   "outputs": [
    {
     "name": "stdout",
     "output_type": "stream",
     "text": [
      "write anything i will make it capital case for you\n",
      "TA;JA\n",
      "TALHA\n",
      "KHAN\n"
     ]
    }
   ],
   "source": [
    "print(\"write anything i will make it capital case for you\")\n",
    "flag = True\n",
    "while flag:\n",
    "    c: str = input(\"write anything to make it capital. type quit to exit\")\n",
    "    if c in \"quit\":\n",
    "        flag = False\n",
    "    else:\n",
    "        print(c.upper())\n"
   ]
  },
  {
   "cell_type": "markdown",
   "metadata": {},
   "source": [
    "# no error"
   ]
  },
  {
   "cell_type": "code",
   "execution_count": 53,
   "metadata": {},
   "outputs": [],
   "source": [
    "for i in range(10):\n",
    "    pass"
   ]
  }
 ],
 "metadata": {
  "kernelspec": {
   "display_name": "Python 3",
   "language": "python",
   "name": "python3"
  },
  "language_info": {
   "codemirror_mode": {
    "name": "ipython",
    "version": 3
   },
   "file_extension": ".py",
   "mimetype": "text/x-python",
   "name": "python",
   "nbconvert_exporter": "python",
   "pygments_lexer": "ipython3",
   "version": "3.11.5"
  }
 },
 "nbformat": 4,
 "nbformat_minor": 2
}
