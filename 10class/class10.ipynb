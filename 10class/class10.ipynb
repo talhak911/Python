{
 "cells": [
  {
   "cell_type": "markdown",
   "metadata": {},
   "source": [
    "# funtion\n",
    "* user defined\n",
    "* pre defined\n",
    "``` Return and None-return function\n",
    "Return\n",
    "we can assign this function output in any variable\n",
    "None-Return\n",
    "only run we can't assign value to variable\n",
    "Syntax function\n",
    "def function_name(param1:type, param2:type,...)->Return_type:\n",
    "    function_body\n",
    "\n",
    "function_name(arg1,arg2)\n",
    "Syntaxt lambda function\n",
    "one line function\n",
    "without name\n",
    "only use in this line\n",
    "lambda param1,param2 : function_body\n",
    "```\n",
    "# Pre-define function\n",
    "```\n",
    "print\n",
    "len\n",
    "id\n",
    "dir\n",
    "chr\n",
    "ord\n",
    "exec\n",
    "```\n"
   ]
  },
  {
   "cell_type": "code",
   "execution_count": 1,
   "metadata": {},
   "outputs": [
    {
     "name": "stdout",
     "output_type": "stream",
     "text": [
      "Pakistan\n"
     ]
    },
    {
     "data": {
      "text/plain": [
       "None"
      ]
     },
     "metadata": {},
     "output_type": "display_data"
    }
   ],
   "source": [
    "# variable.method_name()\n",
    "a : str | None = print(\"Pakistan\") # a = \"Pakistan\" | None\n",
    "\n",
    "display(a) # None"
   ]
  },
  {
   "cell_type": "code",
   "execution_count": 2,
   "metadata": {},
   "outputs": [
    {
     "data": {
      "text/plain": [
       "8"
      ]
     },
     "metadata": {},
     "output_type": "display_data"
    },
    {
     "name": "stdout",
     "output_type": "stream",
     "text": [
      "aa\n",
      "3\n"
     ]
    }
   ],
   "source": [
    "a : int = len(\"Pakistan\") # a = 8 Return\n",
    "\n",
    "display(a)\n",
    "print(len('aaa'))"
   ]
  },
  {
   "cell_type": "markdown",
   "metadata": {},
   "source": [
    "# components\n",
    "``` \n",
    "function declaration\n",
    "function name\n",
    "Parameters\n",
    "param : type\n",
    "return output type\n",
    "function body\n",
    "any businuess logic write here\n",
    "function calling\n",
    "function(arg1,arg2)\n",
    "# Syntax function\n",
    "def function_name(param1:type, param2:type,...)->Return_type: # declaration\n",
    "    function_body # body\n",
    "\n",
    "function_name(arg1,arg2) # calling\n",
    "```\n",
    "# Create simple function without any argument (defualt function)"
   ]
  },
  {
   "cell_type": "code",
   "execution_count": 4,
   "metadata": {},
   "outputs": [
    {
     "name": "stdout",
     "output_type": "stream",
     "text": [
      "Hello word! \n",
      "Hello word! \n"
     ]
    }
   ],
   "source": [
    "def hello()->None:\n",
    "    print(\"Hello word! \")\n",
    "hello()\n",
    "hello()"
   ]
  },
  {
   "cell_type": "code",
   "execution_count": 9,
   "metadata": {},
   "outputs": [
    {
     "name": "stdout",
     "output_type": "stream",
     "text": [
      "Hello word! \n",
      "0 time None\n",
      "Hello word! \n",
      "1 time None\n",
      "Hello word! \n",
      "2 time None\n",
      "Hello word! \n",
      "3 time None\n"
     ]
    }
   ],
   "source": [
    "for i in range(4):\n",
    "    print(f\"{i} time {hello()}\")"
   ]
  },
  {
   "cell_type": "markdown",
   "metadata": {},
   "source": [
    "# Reruired parameters"
   ]
  },
  {
   "cell_type": "code",
   "execution_count": 13,
   "metadata": {},
   "outputs": [
    {
     "name": "stdout",
     "output_type": "stream",
     "text": [
      "5\n"
     ]
    }
   ],
   "source": [
    "def hello(a:int,b:int)->int:\n",
    "    sum:int = a+b\n",
    "    return sum\n",
    "print(hello(2,3))"
   ]
  },
  {
   "cell_type": "code",
   "execution_count": 19,
   "metadata": {},
   "outputs": [
    {
     "name": "stdout",
     "output_type": "stream",
     "text": [
      "sum of two's 0 : 0\n",
      "sum of two's 1 : 2\n",
      "sum of two's 2 : 4\n",
      "sum of two's 3 : 6\n",
      "sum of two's 4 : 8\n",
      "sum of two's 5 : 10\n"
     ]
    }
   ],
   "source": [
    "for i in range(6):\n",
    "    print(f\"sum of two's {i} : {hello(i,i)}\")"
   ]
  },
  {
   "cell_type": "code",
   "execution_count": 26,
   "metadata": {},
   "outputs": [
    {
     "name": "stdout",
     "output_type": "stream",
     "text": [
      "first value = 10 and second value = 2\n",
      "5\n"
     ]
    }
   ],
   "source": [
    "def hello(a:int,b:int)->int:\n",
    "    sum:int = int(a/b)\n",
    "    print(f\"first value = {a} and second value = {b}\")\n",
    "    return int(sum)\n",
    "\n",
    "print(hello(b=2,a=10))"
   ]
  },
  {
   "cell_type": "code",
   "execution_count": 34,
   "metadata": {},
   "outputs": [
    {
     "name": "stdout",
     "output_type": "stream",
     "text": [
      "Hello Talha dear\n"
     ]
    }
   ],
   "source": [
    "def printName(first:str,last:str=\"dear\")->str:\n",
    "    return (f\"Hello {first} {last}\")\n",
    "a:str=printName(\"Talha\")\n",
    "print(a)"
   ]
  },
  {
   "cell_type": "code",
   "execution_count": 35,
   "metadata": {},
   "outputs": [
    {
     "name": "stdout",
     "output_type": "stream",
     "text": [
      "Hello Talha sadiq\n"
     ]
    }
   ],
   "source": [
    "def printName(first:str,last:str=\"dear\")->str:\n",
    "    return (f\"Hello {first} {last}\")\n",
    "a:str=printName(\"Talha\",\"sadiq\")\n",
    "print(a)"
   ]
  },
  {
   "cell_type": "code",
   "execution_count": 46,
   "metadata": {},
   "outputs": [
    {
     "data": {
      "text/plain": [
       "5"
      ]
     },
     "execution_count": 46,
     "metadata": {},
     "output_type": "execute_result"
    }
   ],
   "source": [
    "def func(var1: str, var2: str)-> int :\n",
    "    return var1.index(var2) # checks if var2 is in var1\n",
    "func(\"01234talha\" ,\"t\")"
   ]
  },
  {
   "cell_type": "code",
   "execution_count": 47,
   "metadata": {},
   "outputs": [
    {
     "ename": "ValueError",
     "evalue": "substring not found",
     "output_type": "error",
     "traceback": [
      "\u001b[1;31m---------------------------------------------------------------------------\u001b[0m",
      "\u001b[1;31mValueError\u001b[0m                                Traceback (most recent call last)",
      "\u001b[1;32md:\\Apiaic\\python\\10class\\class10.ipynb Cell 14\u001b[0m line \u001b[0;36m3\n\u001b[0;32m      <a href='vscode-notebook-cell:/d%3A/Apiaic/python/10class/class10.ipynb#X20sZmlsZQ%3D%3D?line=0'>1</a>\u001b[0m \u001b[39mdef\u001b[39;00m \u001b[39mfunc\u001b[39m(var1: \u001b[39mstr\u001b[39m, var2: \u001b[39mstr\u001b[39m)\u001b[39m-\u001b[39m\u001b[39m>\u001b[39m \u001b[39mint\u001b[39m :\n\u001b[0;32m      <a href='vscode-notebook-cell:/d%3A/Apiaic/python/10class/class10.ipynb#X20sZmlsZQ%3D%3D?line=1'>2</a>\u001b[0m     \u001b[39mreturn\u001b[39;00m var1\u001b[39m.\u001b[39mindex(var2) \u001b[39m# checks if var2 is in var1\u001b[39;00m\n\u001b[1;32m----> <a href='vscode-notebook-cell:/d%3A/Apiaic/python/10class/class10.ipynb#X20sZmlsZQ%3D%3D?line=2'>3</a>\u001b[0m func(\u001b[39m\"\u001b[39m\u001b[39m01234talha\u001b[39m\u001b[39m\"\u001b[39m ,\u001b[39m\"\u001b[39m\u001b[39mf\u001b[39m\u001b[39m\"\u001b[39m)\n",
      "\u001b[1;32md:\\Apiaic\\python\\10class\\class10.ipynb Cell 14\u001b[0m line \u001b[0;36m2\n\u001b[0;32m      <a href='vscode-notebook-cell:/d%3A/Apiaic/python/10class/class10.ipynb#X20sZmlsZQ%3D%3D?line=0'>1</a>\u001b[0m \u001b[39mdef\u001b[39;00m \u001b[39mfunc\u001b[39m(var1: \u001b[39mstr\u001b[39m, var2: \u001b[39mstr\u001b[39m)\u001b[39m-\u001b[39m\u001b[39m>\u001b[39m \u001b[39mint\u001b[39m :\n\u001b[1;32m----> <a href='vscode-notebook-cell:/d%3A/Apiaic/python/10class/class10.ipynb#X20sZmlsZQ%3D%3D?line=1'>2</a>\u001b[0m     \u001b[39mreturn\u001b[39;00m var1\u001b[39m.\u001b[39mindex(var2)\n",
      "\u001b[1;31mValueError\u001b[0m: substring not found"
     ]
    }
   ],
   "source": [
    "def func(var1: str, var2: str)-> int :\n",
    "    return var1.index(var2) # checks if var2 is in var1\n",
    "func(\"01234talha\" ,\"f\")"
   ]
  },
  {
   "cell_type": "code",
   "execution_count": 45,
   "metadata": {},
   "outputs": [
    {
     "name": "stdout",
     "output_type": "stream",
     "text": [
      "value 2 is not found in value 1\n"
     ]
    }
   ],
   "source": [
    "def func(var1: str, var2: str)-> int | None :\n",
    "    try:\n",
    "        return var1.index(var2)\n",
    "    except ValueError:\n",
    "        print(\"value 2 is not found in value 1\")\n",
    "func(\"Hello\" ,\"world\")"
   ]
  },
  {
   "cell_type": "code",
   "execution_count": 50,
   "metadata": {},
   "outputs": [
    {
     "data": {
      "text/plain": [
       "3"
      ]
     },
     "execution_count": 50,
     "metadata": {},
     "output_type": "execute_result"
    }
   ],
   "source": [
    "a = lambda value1,value2: value1.index(value2)\n",
    "a(\"0123\",\"3\")"
   ]
  },
  {
   "cell_type": "code",
   "execution_count": 56,
   "metadata": {},
   "outputs": [
    {
     "name": "stdout",
     "output_type": "stream",
     "text": [
      "Error\n"
     ]
    }
   ],
   "source": [
    "try:\n",
    "    a = lambda value1,value2: value1.index(value2)\n",
    "    a('33',3)\n",
    "except: # handle all error\n",
    "    print(\"Error\")\n"
   ]
  },
  {
   "cell_type": "code",
   "execution_count": 65,
   "metadata": {},
   "outputs": [
    {
     "data": {
      "text/plain": [
       "['d', 'l', 'r', 'o', 'W', ' ', 'o', 'l', 'l', 'e', 'H']"
      ]
     },
     "execution_count": 65,
     "metadata": {},
     "output_type": "execute_result"
    }
   ],
   "source": [
    "reverse = lambda mes: mes;  key = reversed\n",
    "list(reversed(\"Hello World\"))"
   ]
  },
  {
   "cell_type": "code",
   "execution_count": 67,
   "metadata": {},
   "outputs": [
    {
     "name": "stdout",
     "output_type": "stream",
     "text": [
      "3\n"
     ]
    }
   ],
   "source": [
    "from typing import Callable\n",
    "stringslen :Callable[[str,str],int]=lambda x,y:len(x+y)\n",
    "print(stringslen(\"M\",\"oo\"))"
   ]
  },
  {
   "cell_type": "code",
   "execution_count": 72,
   "metadata": {},
   "outputs": [
    {
     "name": "stdout",
     "output_type": "stream",
     "text": [
      "[0, 1, 4, 9, 16, 25, 36, 49, 64, 81, 100]\n"
     ]
    }
   ],
   "source": [
    "numbers:list[int]=list(range(11))\n",
    "square = list(map(lambda x:x**2, numbers))\n",
    "print(square)"
   ]
  },
  {
   "cell_type": "code",
   "execution_count": 75,
   "metadata": {},
   "outputs": [
    {
     "name": "stdout",
     "output_type": "stream",
     "text": [
      "\u001b[1;31mInit signature:\u001b[0m \u001b[0mmap\u001b[0m\u001b[1;33m(\u001b[0m\u001b[0mself\u001b[0m\u001b[1;33m,\u001b[0m \u001b[1;33m/\u001b[0m\u001b[1;33m,\u001b[0m \u001b[1;33m*\u001b[0m\u001b[0margs\u001b[0m\u001b[1;33m,\u001b[0m \u001b[1;33m**\u001b[0m\u001b[0mkwargs\u001b[0m\u001b[1;33m)\u001b[0m\u001b[1;33m\u001b[0m\u001b[1;33m\u001b[0m\u001b[0m\n",
      "\u001b[1;31mDocstring:\u001b[0m     \n",
      "map(func, *iterables) --> map object\n",
      "\n",
      "Make an iterator that computes the function using arguments from\n",
      "each of the iterables.  Stops when the shortest iterable is exhausted.\n",
      "\u001b[1;31mType:\u001b[0m           type\n",
      "\u001b[1;31mSubclasses:\u001b[0m     "
     ]
    }
   ],
   "source": [
    "?map"
   ]
  },
  {
   "cell_type": "code",
   "execution_count": 76,
   "metadata": {},
   "outputs": [
    {
     "name": "stdout",
     "output_type": "stream",
     "text": [
      "[0, 2, 4, 6, 8, 10]\n"
     ]
    }
   ],
   "source": [
    "numbers:list[int]=list(range(11))\n",
    "data:list[int] = list(filter(lambda x:x%2==0, numbers))\n",
    "print(data)"
   ]
  },
  {
   "cell_type": "code",
   "execution_count": 92,
   "metadata": {},
   "outputs": [
    {
     "name": "stdout",
     "output_type": "stream",
     "text": [
      "2\n",
      "4\n"
     ]
    }
   ],
   "source": [
    "data:list[int] = filter(lambda x:x%2==0 ,range(1,20))\n",
    "\n",
    "print(next(data))\n",
    "print(next(data))"
   ]
  },
  {
   "cell_type": "markdown",
   "metadata": {},
   "source": [
    "# Generator function"
   ]
  },
  {
   "cell_type": "code",
   "execution_count": 82,
   "metadata": {},
   "outputs": [
    {
     "data": {
      "text/plain": [
       "<generator object jump at 0x0000008203A72980>"
      ]
     },
     "execution_count": 82,
     "metadata": {},
     "output_type": "execute_result"
    }
   ],
   "source": [
    "def jump(start:int,end:int,step:int=1):\n",
    "    for i in range(start,end+1,step):\n",
    "        yield i\n",
    "jump(1,10,1)"
   ]
  },
  {
   "cell_type": "code",
   "execution_count": 83,
   "metadata": {},
   "outputs": [
    {
     "data": {
      "text/plain": [
       "[1, 3, 5, 7, 9]"
      ]
     },
     "execution_count": 83,
     "metadata": {},
     "output_type": "execute_result"
    }
   ],
   "source": [
    "list(jump(1,10,2))"
   ]
  },
  {
   "cell_type": "code",
   "execution_count": 84,
   "metadata": {},
   "outputs": [
    {
     "name": "stdout",
     "output_type": "stream",
     "text": [
      "<generator object jump at 0x0000008203A735B0>\n",
      "1\n",
      "2\n",
      "3\n",
      "Pakistan\n",
      "4\n"
     ]
    }
   ],
   "source": [
    "a = jump(1,10)\n",
    "print(a)\n",
    "print(next(a))\n",
    "print(next(a))\n",
    "print(next(a))\n",
    "print(\"Pakistan\")\n",
    "print(next(a))"
   ]
  },
  {
   "cell_type": "code",
   "execution_count": 89,
   "metadata": {},
   "outputs": [
    {
     "name": "stdout",
     "output_type": "stream",
     "text": [
      "{'name': 'Alice', 'age': 30}\n",
      "{'name': 'Bob', 'age': 25}\n",
      "name\n",
      "age\n"
     ]
    }
   ],
   "source": [
    "from collections.abc import Iterator\n",
    "\n",
    "MyDictT = dict[str, object]  # Type alias for dictionaries\n",
    "\n",
    "def yield_func() -> Iterator[MyDictT]:\n",
    "    a: MyDictT = {'name': 'Alice', 'age': 30}\n",
    "    b: MyDictT = {'name': 'Bob', 'age': 25}\n",
    "    c: MyDictT = {'name': 'Charlie', 'age': 28}\n",
    "\n",
    "    yield a, b  # Yielding a tuple of dictionaries\n",
    "    yield c  # Yielding a single dictionary\n",
    "\n",
    "# Using the generator\n",
    "for values in yield_func():\n",
    "    for dictionary in values:\n",
    "        print(dictionary)\n"
   ]
  },
  {
   "cell_type": "code",
   "execution_count": 95,
   "metadata": {},
   "outputs": [
    {
     "name": "stdout",
     "output_type": "stream",
     "text": [
      "{'name': 'talha', 'City': 'Faisalabad'}\n",
      "{'name': 'asif', 'City': 'Lahore'}\n"
     ]
    }
   ],
   "source": [
    "stds: list[dict[str,str]]=[\n",
    "    {\"name\":\"talha\",\"City\":\"Faisalabad\"},\n",
    "    {\"name\":\"asif\",\"City\":\"Lahore\"}\n",
    "]\n",
    "for i in stds:\n",
    "    print(i)"
   ]
  },
  {
   "cell_type": "code",
   "execution_count": 96,
   "metadata": {},
   "outputs": [
    {
     "name": "stdout",
     "output_type": "stream",
     "text": [
      "1\n",
      "2\n"
     ]
    }
   ],
   "source": [
    "from collections.abc import Iterator\n",
    "\n",
    "def my_range(start:int , end:int , step: int=1)->Iterator[int]:\n",
    "    for i in range(start,end+1,step):\n",
    "        yield i # Generator fucntion\n",
    "\n",
    "\n",
    "iterator_variable = my_range(1,10)\n",
    "\n",
    "print(next(iterator_variable))\n",
    "print(next(iterator_variable))"
   ]
  },
  {
   "cell_type": "markdown",
   "metadata": {},
   "source": [
    "# function with unlimited arguments"
   ]
  },
  {
   "cell_type": "code",
   "execution_count": 100,
   "metadata": {},
   "outputs": [
    {
     "name": "stdout",
     "output_type": "stream",
     "text": [
      "sum of numbers (2, 2, 2, 2, 2) <class 'tuple'>\n",
      "10\n"
     ]
    }
   ],
   "source": [
    "def add(*nums:int)->int:\n",
    "    print(f\"sum of numbers {nums}\", type(nums))\n",
    "    total:int=0\n",
    "    for i in nums:\n",
    "        total+=i\n",
    "    return total\n",
    "print(add(2,2,2,2,2))"
   ]
  },
  {
   "cell_type": "code",
   "execution_count": 104,
   "metadata": {},
   "outputs": [
    {
     "name": "stdout",
     "output_type": "stream",
     "text": [
      "Hello talha\n",
      "Hello Ali\n",
      "Hello Hamad\n"
     ]
    }
   ],
   "source": [
    "def greet(*names:str)->None:\n",
    "    \n",
    "    for i in names:\n",
    "        print(f\"Hello {i}\")\n",
    "    \n",
    "greet(\"talha\",\"Ali\",\"Hamad\")"
   ]
  },
  {
   "cell_type": "code",
   "execution_count": 111,
   "metadata": {},
   "outputs": [
    {
     "name": "stdout",
     "output_type": "stream",
     "text": [
      "All data\n",
      "{'a': [{'name': 'talha', 'City': 'Faisalabad'}, {'name': 'asif', 'City': 'Lahore'}]}\n"
     ]
    }
   ],
   "source": [
    "from typing import Dict\n",
    "data: list[Dict[str,str]]=[\n",
    "    {\"name\":\"talha\",\"City\":\"Faisalabad\"},\n",
    "    {\"name\":\"asif\",\"City\":\"Lahore\"}\n",
    "]\n",
    "\n",
    "def greet(**xyz:list[Dict[str,str]]) -> None:\n",
    "    print(\"All data\")\n",
    "    print(xyz)\n",
    "\n",
    "greet(a=data)"
   ]
  },
  {
   "cell_type": "code",
   "execution_count": 112,
   "metadata": {},
   "outputs": [
    {
     "name": "stdout",
     "output_type": "stream",
     "text": [
      "{'a': 7, 'b': 20, 'c': 30, 'x': 1, 'y': 2, 'name': 'Muhammad Qasim'} <class 'dict'>\n"
     ]
    }
   ],
   "source": [
    "def xyz(**kargs):\n",
    "    print(kargs, type(kargs))\n",
    "\n",
    "\n",
    "xyz(a=7, b=20, c=30, x=1,y=2 , name=\"Muhammad Qasim\")"
   ]
  },
  {
   "cell_type": "code",
   "execution_count": 114,
   "metadata": {},
   "outputs": [
    {
     "name": "stdout",
     "output_type": "stream",
     "text": [
      "1 2 (7, 9, 9, 9) {'c': 20, 'd': 30, 'x': 100}\n"
     ]
    }
   ],
   "source": [
    "# typing hint error\n",
    "from typing import Tuple\n",
    "def my_function(a:int, b:int, *abc:Tuple[int, ...], **xyz:Dict[str,int]):\n",
    "    print(a,b, abc, xyz)\n",
    "\n",
    "my_function(1,2, 7,9,9,9, c=20, d= 30, x=100)"
   ]
  },
  {
   "cell_type": "code",
   "execution_count": null,
   "metadata": {},
   "outputs": [],
   "source": [
    "from typing import Callable\n",
    "\n",
    "def my_decorator(func: Callable[[], None])-> Callable[[], None]:\n",
    "    def wrapper():\n",
    "        print(\"Something is happening before the function is called.\")\n",
    "        func()\n",
    "        print(\"Something is happening after the function is called.\")\n",
    "    return wrapper\n",
    "\n",
    "@my_decorator\n",
    "def say_hello():\n",
    "    print(\"Hello!\")\n",
    "\n",
    "say_hello()"
   ]
  },
  {
   "cell_type": "code",
   "execution_count": 120,
   "metadata": {},
   "outputs": [
    {
     "name": "stdout",
     "output_type": "stream",
     "text": [
      "The factorial of 5 is 120\n"
     ]
    }
   ],
   "source": [
    "def factorial(x: int) -> int:\n",
    "    \"\"\"This is a recursive function\n",
    "    to find the factorial of an integer\"\"\"\n",
    "    if x == 1:\n",
    "        return 1\n",
    "    else:\n",
    "        return (x * factorial(x-1))\n",
    "        #       5*4*3*2*1\n",
    "\n",
    "num = 5\n",
    "print(\"The factorial of\", num, \"is\", factorial(num))"
   ]
  },
  {
   "cell_type": "code",
   "execution_count": 119,
   "metadata": {},
   "outputs": [
    {
     "name": "stdout",
     "output_type": "stream",
     "text": [
      "Hello message\n",
      "Goodbye\n",
      "42 this is your message\n"
     ]
    }
   ],
   "source": [
    "# will do later\n",
    "from typing import Callable\n",
    "\n",
    "def myDec(func: Callable[[int], str]) -> Callable[[int], str]:\n",
    "    def wrapper(num: int) -> str:\n",
    "        print(\"Hello message\")\n",
    "        func(num)\n",
    "        print(\"Goodbye\")\n",
    "        return func(num)\n",
    "\n",
    "    return wrapper\n",
    "\n",
    "@myDec\n",
    "def message(m: int) -> str:\n",
    "    return f\"{m} this is your message\"\n",
    "\n",
    "result = message(42)\n",
    "print(result)\n"
   ]
  },
  {
   "cell_type": "code",
   "execution_count": 121,
   "metadata": {},
   "outputs": [
    {
     "name": "stdout",
     "output_type": "stream",
     "text": [
      "Hello message\n",
      "Goodbye\n",
      "42 this is your message\n"
     ]
    }
   ],
   "source": [
    "from typing import Callable\n",
    "\n",
    "def myDec(func: Callable[[int], str]) -> Callable[[int], str]:\n",
    "    def wrapper(num: int) -> str:\n",
    "        print(\"Hello message\")\n",
    "        result = func(num)\n",
    "        print(\"Goodbye\")\n",
    "        return result\n",
    "\n",
    "    return wrapper\n",
    "\n",
    "@myDec\n",
    "def message(m: int) -> str:\n",
    "    return f\"{m} this is your message\"\n",
    "\n",
    "result = message(42)\n",
    "print(result)\n"
   ]
  }
 ],
 "metadata": {
  "kernelspec": {
   "display_name": "Python 3",
   "language": "python",
   "name": "python3"
  },
  "language_info": {
   "codemirror_mode": {
    "name": "ipython",
    "version": 3
   },
   "file_extension": ".py",
   "mimetype": "text/x-python",
   "name": "python",
   "nbconvert_exporter": "python",
   "pygments_lexer": "ipython3",
   "version": "3.11.5"
  }
 },
 "nbformat": 4,
 "nbformat_minor": 2
}
