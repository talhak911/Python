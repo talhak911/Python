{
 "cells": [
  {
   "cell_type": "markdown",
   "metadata": {},
   "source": [
    "# funtion\n",
    "* user defined\n",
    "* pre defined\n",
    "``` Return and None-return function\n",
    "Return\n",
    "we can assign this function output in any variable\n",
    "None-Return\n",
    "only run we can't assign value to variable\n",
    "Syntax function\n",
    "def function_name(param1:type, param2:type,...)->Return_type:\n",
    "    function_body\n",
    "\n",
    "function_name(arg1,arg2)\n",
    "Syntaxt lambda function\n",
    "one line function\n",
    "without name\n",
    "only use in this line\n",
    "lambda param1,param2 : function_body\n",
    "```\n",
    "# Pre-define function\n",
    "```\n",
    "print\n",
    "len\n",
    "id\n",
    "dir\n",
    "chr\n",
    "ord\n",
    "exec\n",
    "```\n"
   ]
  },
  {
   "cell_type": "code",
   "execution_count": 1,
   "metadata": {},
   "outputs": [
    {
     "name": "stdout",
     "output_type": "stream",
     "text": [
      "Pakistan\n"
     ]
    },
    {
     "data": {
      "text/plain": [
       "None"
      ]
     },
     "metadata": {},
     "output_type": "display_data"
    }
   ],
   "source": [
    "# variable.method_name()\n",
    "a : str = print(\"Pakistan\") # a = \"Pakistan\" | None\n",
    "\n",
    "display(a) # None"
   ]
  },
  {
   "cell_type": "code",
   "execution_count": 2,
   "metadata": {},
   "outputs": [
    {
     "data": {
      "text/plain": [
       "8"
      ]
     },
     "metadata": {},
     "output_type": "display_data"
    },
    {
     "name": "stdout",
     "output_type": "stream",
     "text": [
      "aa\n",
      "3\n"
     ]
    }
   ],
   "source": [
    "a : int = len(\"Pakistan\") # a = 8 Return\n",
    "\n",
    "display(a)\n",
    "print(len('aaa'))"
   ]
  },
  {
   "cell_type": "markdown",
   "metadata": {},
   "source": [
    "# components\n",
    "``` \n",
    "function declaration\n",
    "function name\n",
    "Parameters\n",
    "param : type\n",
    "return output type\n",
    "function body\n",
    "any businuess logic write here\n",
    "function calling\n",
    "function(arg1,arg2)\n",
    "# Syntax function\n",
    "def function_name(param1:type, param2:type,...)->Return_type: # declaration\n",
    "    function_body # body\n",
    "\n",
    "function_name(arg1,arg2) # calling\n",
    "```\n",
    "# Create simple function without any argument (defualt function)"
   ]
  },
  {
   "cell_type": "code",
   "execution_count": 4,
   "metadata": {},
   "outputs": [
    {
     "name": "stdout",
     "output_type": "stream",
     "text": [
      "Hello word! \n",
      "Hello word! \n"
     ]
    }
   ],
   "source": [
    "def hello()->None:\n",
    "    print(\"Hello word! \")\n",
    "hello()\n",
    "hello()"
   ]
  },
  {
   "cell_type": "code",
   "execution_count": 9,
   "metadata": {},
   "outputs": [
    {
     "name": "stdout",
     "output_type": "stream",
     "text": [
      "Hello word! \n",
      "0 time None\n",
      "Hello word! \n",
      "1 time None\n",
      "Hello word! \n",
      "2 time None\n",
      "Hello word! \n",
      "3 time None\n"
     ]
    }
   ],
   "source": [
    "for i in range(4):\n",
    "    print(f\"{i} time {hello()}\")"
   ]
  },
  {
   "cell_type": "markdown",
   "metadata": {},
   "source": [
    "# Reruired parameters"
   ]
  },
  {
   "cell_type": "code",
   "execution_count": 13,
   "metadata": {},
   "outputs": [
    {
     "name": "stdout",
     "output_type": "stream",
     "text": [
      "5\n"
     ]
    }
   ],
   "source": [
    "def hello(a:int,b:int)->int:\n",
    "    sum:int = a+b\n",
    "    return sum\n",
    "print(hello(2,3))"
   ]
  },
  {
   "cell_type": "code",
   "execution_count": 19,
   "metadata": {},
   "outputs": [
    {
     "name": "stdout",
     "output_type": "stream",
     "text": [
      "sum of two's 0 : 0\n",
      "sum of two's 1 : 2\n",
      "sum of two's 2 : 4\n",
      "sum of two's 3 : 6\n",
      "sum of two's 4 : 8\n",
      "sum of two's 5 : 10\n"
     ]
    }
   ],
   "source": [
    "for i in range(6):\n",
    "    print(f\"sum of two's {i} : {hello(i,i)}\")"
   ]
  },
  {
   "cell_type": "code",
   "execution_count": 26,
   "metadata": {},
   "outputs": [
    {
     "name": "stdout",
     "output_type": "stream",
     "text": [
      "first value = 10 and second value = 2\n",
      "5\n"
     ]
    }
   ],
   "source": [
    "def hello(a:int,b:int)->int:\n",
    "    sum:int = a/b\n",
    "    print(f\"first value = {a} and second value = {b}\")\n",
    "    return int(sum)\n",
    "\n",
    "print(hello(b=2,a=10))"
   ]
  },
  {
   "cell_type": "code",
   "execution_count": 34,
   "metadata": {},
   "outputs": [
    {
     "name": "stdout",
     "output_type": "stream",
     "text": [
      "Hello Talha dear\n"
     ]
    }
   ],
   "source": [
    "def printName(first:str,last:str=\"dear\")->str:\n",
    "    return (f\"Hello {first} {last}\")\n",
    "a:str=printName(\"Talha\")\n",
    "print(a)"
   ]
  },
  {
   "cell_type": "code",
   "execution_count": 35,
   "metadata": {},
   "outputs": [
    {
     "name": "stdout",
     "output_type": "stream",
     "text": [
      "Hello Talha sadiq\n"
     ]
    }
   ],
   "source": [
    "def printName(first:str,last:str=\"dear\")->str:\n",
    "    return (f\"Hello {first} {last}\")\n",
    "a:str=printName(\"Talha\",\"sadiq\")\n",
    "print(a)"
   ]
  },
  {
   "cell_type": "code",
   "execution_count": 46,
   "metadata": {},
   "outputs": [
    {
     "data": {
      "text/plain": [
       "5"
      ]
     },
     "execution_count": 46,
     "metadata": {},
     "output_type": "execute_result"
    }
   ],
   "source": [
    "def func(var1: str, var2: str)-> int :\n",
    "    return var1.index(var2) # checks if var2 is in var1\n",
    "func(\"01234talha\" ,\"t\")"
   ]
  },
  {
   "cell_type": "code",
   "execution_count": 47,
   "metadata": {},
   "outputs": [
    {
     "ename": "ValueError",
     "evalue": "substring not found",
     "output_type": "error",
     "traceback": [
      "\u001b[1;31m---------------------------------------------------------------------------\u001b[0m",
      "\u001b[1;31mValueError\u001b[0m                                Traceback (most recent call last)",
      "\u001b[1;32md:\\Apiaic\\python\\10class\\class10.ipynb Cell 14\u001b[0m line \u001b[0;36m3\n\u001b[0;32m      <a href='vscode-notebook-cell:/d%3A/Apiaic/python/10class/class10.ipynb#X20sZmlsZQ%3D%3D?line=0'>1</a>\u001b[0m \u001b[39mdef\u001b[39;00m \u001b[39mfunc\u001b[39m(var1: \u001b[39mstr\u001b[39m, var2: \u001b[39mstr\u001b[39m)\u001b[39m-\u001b[39m\u001b[39m>\u001b[39m \u001b[39mint\u001b[39m :\n\u001b[0;32m      <a href='vscode-notebook-cell:/d%3A/Apiaic/python/10class/class10.ipynb#X20sZmlsZQ%3D%3D?line=1'>2</a>\u001b[0m     \u001b[39mreturn\u001b[39;00m var1\u001b[39m.\u001b[39mindex(var2) \u001b[39m# checks if var2 is in var1\u001b[39;00m\n\u001b[1;32m----> <a href='vscode-notebook-cell:/d%3A/Apiaic/python/10class/class10.ipynb#X20sZmlsZQ%3D%3D?line=2'>3</a>\u001b[0m func(\u001b[39m\"\u001b[39m\u001b[39m01234talha\u001b[39m\u001b[39m\"\u001b[39m ,\u001b[39m\"\u001b[39m\u001b[39mf\u001b[39m\u001b[39m\"\u001b[39m)\n",
      "\u001b[1;32md:\\Apiaic\\python\\10class\\class10.ipynb Cell 14\u001b[0m line \u001b[0;36m2\n\u001b[0;32m      <a href='vscode-notebook-cell:/d%3A/Apiaic/python/10class/class10.ipynb#X20sZmlsZQ%3D%3D?line=0'>1</a>\u001b[0m \u001b[39mdef\u001b[39;00m \u001b[39mfunc\u001b[39m(var1: \u001b[39mstr\u001b[39m, var2: \u001b[39mstr\u001b[39m)\u001b[39m-\u001b[39m\u001b[39m>\u001b[39m \u001b[39mint\u001b[39m :\n\u001b[1;32m----> <a href='vscode-notebook-cell:/d%3A/Apiaic/python/10class/class10.ipynb#X20sZmlsZQ%3D%3D?line=1'>2</a>\u001b[0m     \u001b[39mreturn\u001b[39;00m var1\u001b[39m.\u001b[39mindex(var2)\n",
      "\u001b[1;31mValueError\u001b[0m: substring not found"
     ]
    }
   ],
   "source": [
    "def func(var1: str, var2: str)-> int :\n",
    "    return var1.index(var2) # checks if var2 is in var1\n",
    "func(\"01234talha\" ,\"f\")"
   ]
  },
  {
   "cell_type": "code",
   "execution_count": 45,
   "metadata": {},
   "outputs": [
    {
     "name": "stdout",
     "output_type": "stream",
     "text": [
      "value 2 is not found in value 1\n"
     ]
    }
   ],
   "source": [
    "def func(var1: str, var2: str)-> int :\n",
    "    try:\n",
    "        return var1.index(var2)\n",
    "    except ValueError:\n",
    "        print(\"value 2 is not found in value 1\")\n",
    "func(\"Hello\" ,\"world\")"
   ]
  },
  {
   "cell_type": "code",
   "execution_count": 50,
   "metadata": {},
   "outputs": [
    {
     "data": {
      "text/plain": [
       "3"
      ]
     },
     "execution_count": 50,
     "metadata": {},
     "output_type": "execute_result"
    }
   ],
   "source": [
    "a = lambda value1,value2: value1.index(value2)\n",
    "a(\"0123\",\"3\")"
   ]
  },
  {
   "cell_type": "code",
   "execution_count": 56,
   "metadata": {},
   "outputs": [
    {
     "name": "stdout",
     "output_type": "stream",
     "text": [
      "Error\n"
     ]
    }
   ],
   "source": [
    "try:\n",
    "    a = lambda value1,value2: value1.index(value2)\n",
    "    a('33',3)\n",
    "except: # handle all error\n",
    "    print(\"Error\")\n"
   ]
  },
  {
   "cell_type": "code",
   "execution_count": 65,
   "metadata": {},
   "outputs": [
    {
     "data": {
      "text/plain": [
       "['d', 'l', 'r', 'o', 'W', ' ', 'o', 'l', 'l', 'e', 'H']"
      ]
     },
     "execution_count": 65,
     "metadata": {},
     "output_type": "execute_result"
    }
   ],
   "source": [
    "reverse = lambda mes: mes;  key = reversed\n",
    "list(reversed(\"Hello World\"))"
   ]
  },
  {
   "cell_type": "code",
   "execution_count": null,
   "metadata": {},
   "outputs": [],
   "source": []
  }
 ],
 "metadata": {
  "kernelspec": {
   "display_name": "Python 3",
   "language": "python",
   "name": "python3"
  },
  "language_info": {
   "codemirror_mode": {
    "name": "ipython",
    "version": 3
   },
   "file_extension": ".py",
   "mimetype": "text/x-python",
   "name": "python",
   "nbconvert_exporter": "python",
   "pygments_lexer": "ipython3",
   "version": "3.11.5"
  }
 },
 "nbformat": 4,
 "nbformat_minor": 2
}
