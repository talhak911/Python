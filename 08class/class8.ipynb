{
 "cells": [
  {
   "cell_type": "markdown",
   "metadata": {},
   "source": []
  },
  {
   "cell_type": "code",
   "execution_count": null,
   "metadata": {},
   "outputs": [],
   "source": [
    "from typing import Union\n",
    "key = Union[str,int]\n",
    "value = Union[str,int,set,list, dict, tuple]\n",
    "data: dict[key,value] = {\"name\":\"Talha\"\n",
    "                         , \"fname\":\"sadiq\",\n",
    "                         \"Hobby\":{1:\"cricket\",2:\"gardening\"}\n",
    "                         }\n",
    "\n",
    "print(data[\"Hobby\"][2])"
   ]
  },
  {
   "cell_type": "markdown",
   "metadata": {},
   "source": [
    "# get data without error"
   ]
  },
  {
   "cell_type": "code",
   "execution_count": 2,
   "metadata": {},
   "outputs": [
    {
     "name": "stdout",
     "output_type": "stream",
     "text": [
      "{1: 'cricket', 2: 'gardening'}\n"
     ]
    }
   ],
   "source": [
    "from typing import Union\n",
    "key = Union[str,int]\n",
    "value = Union[str,int,set,list, dict, tuple]\n",
    "data: dict[key,value] = {\"name\":\"Talha\"\n",
    "                         , \"fname\":\"sadiq\",\n",
    "                         \"Hobby\":{1:\"cricket\",2:\"gardening\"}\n",
    "                         }\n",
    "\n",
    "a = data.get(\"Hobby\")\n",
    "print(a)"
   ]
  },
  {
   "cell_type": "code",
   "execution_count": 5,
   "metadata": {},
   "outputs": [
    {
     "name": "stdout",
     "output_type": "stream",
     "text": [
      "Talha\n",
      "{'fname': 'sadiq', 'Hobby': {1: 'cricket', 2: 'gardening'}}\n"
     ]
    }
   ],
   "source": [
    "from typing import Union\n",
    "key = Union[str,int]\n",
    "value = Union[str,int,set,list, dict, tuple]\n",
    "data: dict[key,value] = {\"name\":\"Talha\"\n",
    "                         , \"fname\":\"sadiq\",\n",
    "                         \"Hobby\":{1:\"cricket\",2:\"gardening\"}\n",
    "                         }\n",
    "\n",
    "a = data.pop(\"name\")\n",
    "print(a)\n",
    "print(data)"
   ]
  },
  {
   "cell_type": "code",
   "execution_count": 9,
   "metadata": {},
   "outputs": [
    {
     "name": "stdout",
     "output_type": "stream",
     "text": [
      "{'name': 'Talha', 'fname': 'sadiq', 'Hobby': {1: 'cricket', 2: 'gardening'}}\n",
      "Removed  ('Hobby', {1: 'cricket', 2: 'gardening'})\n",
      "{'name': 'Talha', 'fname': 'sadiq'}\n"
     ]
    }
   ],
   "source": [
    "from typing import Union\n",
    "key = Union[str,int]\n",
    "value = Union[str,int,set,list, dict, tuple]\n",
    "data: dict[key,value] = {\"name\":\"Talha\"\n",
    "                         , \"fname\":\"sadiq\",\n",
    "                         \"Hobby\":{1:\"cricket\",2:\"gardening\"}\n",
    "                         }\n",
    "print(data)\n",
    "a = data.popitem()\n",
    "print(\"Removed \",a)\n",
    "print(data)"
   ]
  },
  {
   "cell_type": "code",
   "execution_count": 11,
   "metadata": {},
   "outputs": [
    {
     "name": "stdout",
     "output_type": "stream",
     "text": [
      "{'name': 'Talha', 'fname': 'sadiq', 'Hobby': {1: 'cricket', 2: 'gardening'}}\n",
      "{1: 'cricket', 2: 'gardening'}\n",
      "{'name': 'Talha', 'fname': 'sadiq', 'Hobby': {1: 'cricket', 2: 'gardening'}}\n"
     ]
    }
   ],
   "source": [
    "from typing import Union\n",
    "key = Union[str,int]\n",
    "value = Union[str,int,set,list, dict, tuple]\n",
    "data: dict[key,value] = {\"name\":\"Talha\"\n",
    "                         , \"fname\":\"sadiq\",\n",
    "                         \"Hobby\":{1:\"cricket\",2:\"gardening\"}\n",
    "                         }\n",
    "print(data)\n",
    "a = data.setdefault(\"Hobby\")\n",
    "print(a)\n",
    "print(data)"
   ]
  },
  {
   "cell_type": "code",
   "execution_count": 13,
   "metadata": {},
   "outputs": [
    {
     "name": "stdout",
     "output_type": "stream",
     "text": [
      "{'name': 'Talha', 'fname': 'sadiq', 'Hobby': {1: 'cricket', 2: 'gardening'}}\n",
      "Empty value\n",
      "{'name': 'Talha', 'fname': 'sadiq', 'Hobby': {1: 'cricket', 2: 'gardening'}, 'age': 'Empty value'}\n"
     ]
    }
   ],
   "source": [
    "from typing import Union\n",
    "key = Union[str,int]\n",
    "value = Union[str,int,set,list, dict, tuple]\n",
    "data: dict[key,value] = {\"name\":\"Talha\"\n",
    "                         , \"fname\":\"sadiq\",\n",
    "                         \"Hobby\":{1:\"cricket\",2:\"gardening\"}\n",
    "                         }\n",
    "print(data)\n",
    "a = data.setdefault(\"age\",\"Empty value\")\n",
    "print(a)\n",
    "print(data)"
   ]
  },
  {
   "cell_type": "code",
   "execution_count": 18,
   "metadata": {},
   "outputs": [
    {
     "name": "stdout",
     "output_type": "stream",
     "text": [
      "before update  {'name': 'Talha', 'fname': 'sadiq', 'Hobby': {1: 'cricket', 2: 'gardening'}}\n",
      "After update {'name': 'M.Talha', 'fname': 'sadiq', 'Hobby': {1: 'cricket', 2: 'gardening'}, 'height': '5.7 ft'}\n"
     ]
    }
   ],
   "source": [
    "from typing import Union\n",
    "key = Union[str,int]\n",
    "value = Union[str,int,set,list, dict, tuple]\n",
    "data: dict[key,value] = {\"name\":\"Talha\"\n",
    "                         , \"fname\":\"sadiq\",\n",
    "                         \"Hobby\":{1:\"cricket\",2:\"gardening\"}\n",
    "                         }\n",
    "data1: dict[key,value] = {\"name\":\"M.Talha\"\n",
    "                         , \"height\":\"5.7 ft\",\n",
    "                         \n",
    "                         }\n",
    "print(\"before update \",data)\n",
    "data.update(data1)\n",
    "\n",
    "print(\"After update\",data)"
   ]
  }
 ],
 "metadata": {
  "kernelspec": {
   "display_name": "Python 3",
   "language": "python",
   "name": "python3"
  },
  "language_info": {
   "codemirror_mode": {
    "name": "ipython",
    "version": 3
   },
   "file_extension": ".py",
   "mimetype": "text/x-python",
   "name": "python",
   "nbconvert_exporter": "python",
   "pygments_lexer": "ipython3",
   "version": "3.11.5"
  }
 },
 "nbformat": 4,
 "nbformat_minor": 2
}
